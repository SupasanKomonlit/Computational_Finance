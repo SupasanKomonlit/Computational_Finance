{
 "cells": [
  {
   "cell_type": "code",
   "execution_count": 1,
   "metadata": {},
   "outputs": [
    {
     "name": "stdout",
     "output_type": "stream",
     "text": [
      "Populating the interactive namespace from numpy and matplotlib\n"
     ]
    }
   ],
   "source": [
    "# Asset data download\n",
    "# CQF final project: Portfolio optimization\n",
    "import yfinance as yf\n",
    "import pandas as pd \n",
    "import time\n",
    "import matplotlib.pyplot as plt  \n",
    "%matplotlib inline\n",
    "%pylab inline"
   ]
  },
  {
   "cell_type": "code",
   "execution_count": 13,
   "metadata": {},
   "outputs": [
    {
     "name": "stdout",
     "output_type": "stream",
     "text": [
      "[*********************100%***********************]  5 of 5 downloaded\n"
     ]
    }
   ],
   "source": [
    "data = yf.download(\"NOK T TWTR ZNGA SBUX\", start=\"2009-01-01\", end=\"2019-12-31\")\n",
    "data.fillna(method='bfill', inplace=True)"
   ]
  },
  {
   "cell_type": "code",
   "execution_count": 43,
   "metadata": {},
   "outputs": [
    {
     "data": {
      "text/html": [
       "<div>\n",
       "<style scoped>\n",
       "    .dataframe tbody tr th:only-of-type {\n",
       "        vertical-align: middle;\n",
       "    }\n",
       "\n",
       "    .dataframe tbody tr th {\n",
       "        vertical-align: top;\n",
       "    }\n",
       "\n",
       "    .dataframe thead tr th {\n",
       "        text-align: left;\n",
       "    }\n",
       "\n",
       "    .dataframe thead tr:last-of-type th {\n",
       "        text-align: right;\n",
       "    }\n",
       "</style>\n",
       "<table border=\"1\" class=\"dataframe\">\n",
       "  <thead>\n",
       "    <tr>\n",
       "      <th></th>\n",
       "      <th colspan=\"5\" halign=\"left\">Adj Close</th>\n",
       "      <th colspan=\"5\" halign=\"left\">Close</th>\n",
       "      <th>...</th>\n",
       "      <th colspan=\"5\" halign=\"left\">Open</th>\n",
       "      <th colspan=\"5\" halign=\"left\">Volume</th>\n",
       "    </tr>\n",
       "    <tr>\n",
       "      <th></th>\n",
       "      <th>NOK</th>\n",
       "      <th>SBUX</th>\n",
       "      <th>T</th>\n",
       "      <th>TWTR</th>\n",
       "      <th>ZNGA</th>\n",
       "      <th>NOK</th>\n",
       "      <th>SBUX</th>\n",
       "      <th>T</th>\n",
       "      <th>TWTR</th>\n",
       "      <th>ZNGA</th>\n",
       "      <th>...</th>\n",
       "      <th>NOK</th>\n",
       "      <th>SBUX</th>\n",
       "      <th>T</th>\n",
       "      <th>TWTR</th>\n",
       "      <th>ZNGA</th>\n",
       "      <th>NOK</th>\n",
       "      <th>SBUX</th>\n",
       "      <th>T</th>\n",
       "      <th>TWTR</th>\n",
       "      <th>ZNGA</th>\n",
       "    </tr>\n",
       "    <tr>\n",
       "      <th>Date</th>\n",
       "      <th></th>\n",
       "      <th></th>\n",
       "      <th></th>\n",
       "      <th></th>\n",
       "      <th></th>\n",
       "      <th></th>\n",
       "      <th></th>\n",
       "      <th></th>\n",
       "      <th></th>\n",
       "      <th></th>\n",
       "      <th></th>\n",
       "      <th></th>\n",
       "      <th></th>\n",
       "      <th></th>\n",
       "      <th></th>\n",
       "      <th></th>\n",
       "      <th></th>\n",
       "      <th></th>\n",
       "      <th></th>\n",
       "      <th></th>\n",
       "      <th></th>\n",
       "    </tr>\n",
       "  </thead>\n",
       "  <tbody>\n",
       "    <tr>\n",
       "      <td>2008-12-31</td>\n",
       "      <td>10.4763</td>\n",
       "      <td>4.06</td>\n",
       "      <td>15.69</td>\n",
       "      <td>44.90</td>\n",
       "      <td>9.50</td>\n",
       "      <td>15.60</td>\n",
       "      <td>4.73</td>\n",
       "      <td>28.50</td>\n",
       "      <td>44.90</td>\n",
       "      <td>9.50</td>\n",
       "      <td>...</td>\n",
       "      <td>15.45</td>\n",
       "      <td>4.66</td>\n",
       "      <td>28.19</td>\n",
       "      <td>45.10</td>\n",
       "      <td>11.00</td>\n",
       "      <td>10274800</td>\n",
       "      <td>9856800</td>\n",
       "      <td>20764700</td>\n",
       "      <td>117701600.0</td>\n",
       "      <td>116817000.0</td>\n",
       "    </tr>\n",
       "    <tr>\n",
       "      <td>2009-01-02</td>\n",
       "      <td>10.7314</td>\n",
       "      <td>4.22</td>\n",
       "      <td>16.19</td>\n",
       "      <td>44.90</td>\n",
       "      <td>9.50</td>\n",
       "      <td>15.98</td>\n",
       "      <td>4.92</td>\n",
       "      <td>29.42</td>\n",
       "      <td>44.90</td>\n",
       "      <td>9.50</td>\n",
       "      <td>...</td>\n",
       "      <td>15.57</td>\n",
       "      <td>4.70</td>\n",
       "      <td>28.74</td>\n",
       "      <td>45.10</td>\n",
       "      <td>11.00</td>\n",
       "      <td>8119200</td>\n",
       "      <td>14885400</td>\n",
       "      <td>21879800</td>\n",
       "      <td>117701600.0</td>\n",
       "      <td>116817000.0</td>\n",
       "    </tr>\n",
       "    <tr>\n",
       "      <td>2009-01-05</td>\n",
       "      <td>10.6912</td>\n",
       "      <td>4.25</td>\n",
       "      <td>15.65</td>\n",
       "      <td>44.90</td>\n",
       "      <td>9.50</td>\n",
       "      <td>15.92</td>\n",
       "      <td>4.96</td>\n",
       "      <td>28.43</td>\n",
       "      <td>44.90</td>\n",
       "      <td>9.50</td>\n",
       "      <td>...</td>\n",
       "      <td>15.92</td>\n",
       "      <td>4.94</td>\n",
       "      <td>28.80</td>\n",
       "      <td>45.10</td>\n",
       "      <td>11.00</td>\n",
       "      <td>11639000</td>\n",
       "      <td>16070600</td>\n",
       "      <td>32414700</td>\n",
       "      <td>117701600.0</td>\n",
       "      <td>116817000.0</td>\n",
       "    </tr>\n",
       "    <tr>\n",
       "      <td>2009-01-06</td>\n",
       "      <td>10.8859</td>\n",
       "      <td>4.38</td>\n",
       "      <td>15.58</td>\n",
       "      <td>44.90</td>\n",
       "      <td>9.50</td>\n",
       "      <td>16.21</td>\n",
       "      <td>5.11</td>\n",
       "      <td>28.30</td>\n",
       "      <td>44.90</td>\n",
       "      <td>9.50</td>\n",
       "      <td>...</td>\n",
       "      <td>16.03</td>\n",
       "      <td>5.03</td>\n",
       "      <td>28.51</td>\n",
       "      <td>45.10</td>\n",
       "      <td>11.00</td>\n",
       "      <td>10237800</td>\n",
       "      <td>17609800</td>\n",
       "      <td>28746100</td>\n",
       "      <td>117701600.0</td>\n",
       "      <td>116817000.0</td>\n",
       "    </tr>\n",
       "    <tr>\n",
       "      <td>2009-01-07</td>\n",
       "      <td>10.5165</td>\n",
       "      <td>4.28</td>\n",
       "      <td>15.20</td>\n",
       "      <td>44.90</td>\n",
       "      <td>9.50</td>\n",
       "      <td>15.66</td>\n",
       "      <td>4.99</td>\n",
       "      <td>27.21</td>\n",
       "      <td>44.90</td>\n",
       "      <td>9.50</td>\n",
       "      <td>...</td>\n",
       "      <td>15.82</td>\n",
       "      <td>5.02</td>\n",
       "      <td>27.65</td>\n",
       "      <td>45.10</td>\n",
       "      <td>11.00</td>\n",
       "      <td>19023100</td>\n",
       "      <td>24216600</td>\n",
       "      <td>30532700</td>\n",
       "      <td>117701600.0</td>\n",
       "      <td>116817000.0</td>\n",
       "    </tr>\n",
       "    <tr>\n",
       "      <td>...</td>\n",
       "      <td>...</td>\n",
       "      <td>...</td>\n",
       "      <td>...</td>\n",
       "      <td>...</td>\n",
       "      <td>...</td>\n",
       "      <td>...</td>\n",
       "      <td>...</td>\n",
       "      <td>...</td>\n",
       "      <td>...</td>\n",
       "      <td>...</td>\n",
       "      <td>...</td>\n",
       "      <td>...</td>\n",
       "      <td>...</td>\n",
       "      <td>...</td>\n",
       "      <td>...</td>\n",
       "      <td>...</td>\n",
       "      <td>...</td>\n",
       "      <td>...</td>\n",
       "      <td>...</td>\n",
       "      <td>...</td>\n",
       "      <td>...</td>\n",
       "    </tr>\n",
       "    <tr>\n",
       "      <td>2019-08-26</td>\n",
       "      <td>5.0000</td>\n",
       "      <td>96.50</td>\n",
       "      <td>34.93</td>\n",
       "      <td>41.44</td>\n",
       "      <td>5.60</td>\n",
       "      <td>5.00</td>\n",
       "      <td>96.50</td>\n",
       "      <td>34.93</td>\n",
       "      <td>41.44</td>\n",
       "      <td>5.60</td>\n",
       "      <td>...</td>\n",
       "      <td>5.02</td>\n",
       "      <td>95.38</td>\n",
       "      <td>34.97</td>\n",
       "      <td>41.40</td>\n",
       "      <td>5.63</td>\n",
       "      <td>10257400</td>\n",
       "      <td>5802600</td>\n",
       "      <td>23197300</td>\n",
       "      <td>6403600.0</td>\n",
       "      <td>19077800.0</td>\n",
       "    </tr>\n",
       "    <tr>\n",
       "      <td>2019-08-27</td>\n",
       "      <td>4.9400</td>\n",
       "      <td>96.09</td>\n",
       "      <td>34.72</td>\n",
       "      <td>42.14</td>\n",
       "      <td>5.72</td>\n",
       "      <td>4.94</td>\n",
       "      <td>96.09</td>\n",
       "      <td>34.72</td>\n",
       "      <td>42.14</td>\n",
       "      <td>5.72</td>\n",
       "      <td>...</td>\n",
       "      <td>5.01</td>\n",
       "      <td>96.70</td>\n",
       "      <td>35.01</td>\n",
       "      <td>42.01</td>\n",
       "      <td>5.74</td>\n",
       "      <td>19466000</td>\n",
       "      <td>6539800</td>\n",
       "      <td>32081200</td>\n",
       "      <td>16087500.0</td>\n",
       "      <td>19151700.0</td>\n",
       "    </tr>\n",
       "    <tr>\n",
       "      <td>2019-08-28</td>\n",
       "      <td>4.8900</td>\n",
       "      <td>97.07</td>\n",
       "      <td>34.96</td>\n",
       "      <td>41.68</td>\n",
       "      <td>5.73</td>\n",
       "      <td>4.89</td>\n",
       "      <td>97.07</td>\n",
       "      <td>34.96</td>\n",
       "      <td>41.68</td>\n",
       "      <td>5.73</td>\n",
       "      <td>...</td>\n",
       "      <td>4.87</td>\n",
       "      <td>96.23</td>\n",
       "      <td>34.67</td>\n",
       "      <td>41.75</td>\n",
       "      <td>5.68</td>\n",
       "      <td>17065200</td>\n",
       "      <td>4948800</td>\n",
       "      <td>24366400</td>\n",
       "      <td>10418400.0</td>\n",
       "      <td>17534400.0</td>\n",
       "    </tr>\n",
       "    <tr>\n",
       "      <td>2019-08-29</td>\n",
       "      <td>4.9200</td>\n",
       "      <td>97.70</td>\n",
       "      <td>35.15</td>\n",
       "      <td>42.49</td>\n",
       "      <td>5.79</td>\n",
       "      <td>4.92</td>\n",
       "      <td>97.70</td>\n",
       "      <td>35.15</td>\n",
       "      <td>42.49</td>\n",
       "      <td>5.79</td>\n",
       "      <td>...</td>\n",
       "      <td>4.90</td>\n",
       "      <td>97.85</td>\n",
       "      <td>35.11</td>\n",
       "      <td>42.25</td>\n",
       "      <td>5.77</td>\n",
       "      <td>11566500</td>\n",
       "      <td>4514300</td>\n",
       "      <td>23293500</td>\n",
       "      <td>10594400.0</td>\n",
       "      <td>10097100.0</td>\n",
       "    </tr>\n",
       "    <tr>\n",
       "      <td>2019-08-30</td>\n",
       "      <td>4.9600</td>\n",
       "      <td>96.56</td>\n",
       "      <td>35.26</td>\n",
       "      <td>42.65</td>\n",
       "      <td>5.71</td>\n",
       "      <td>4.96</td>\n",
       "      <td>96.56</td>\n",
       "      <td>35.26</td>\n",
       "      <td>42.65</td>\n",
       "      <td>5.71</td>\n",
       "      <td>...</td>\n",
       "      <td>4.97</td>\n",
       "      <td>98.14</td>\n",
       "      <td>35.18</td>\n",
       "      <td>42.70</td>\n",
       "      <td>5.82</td>\n",
       "      <td>9925300</td>\n",
       "      <td>5209500</td>\n",
       "      <td>21609100</td>\n",
       "      <td>8863600.0</td>\n",
       "      <td>8402900.0</td>\n",
       "    </tr>\n",
       "  </tbody>\n",
       "</table>\n",
       "<p>2685 rows × 30 columns</p>\n",
       "</div>"
      ],
      "text/plain": [
       "           Adj Close                             Close                       \\\n",
       "                 NOK   SBUX      T   TWTR  ZNGA    NOK   SBUX      T   TWTR   \n",
       "Date                                                                          \n",
       "2008-12-31   10.4763   4.06  15.69  44.90  9.50  15.60   4.73  28.50  44.90   \n",
       "2009-01-02   10.7314   4.22  16.19  44.90  9.50  15.98   4.92  29.42  44.90   \n",
       "2009-01-05   10.6912   4.25  15.65  44.90  9.50  15.92   4.96  28.43  44.90   \n",
       "2009-01-06   10.8859   4.38  15.58  44.90  9.50  16.21   5.11  28.30  44.90   \n",
       "2009-01-07   10.5165   4.28  15.20  44.90  9.50  15.66   4.99  27.21  44.90   \n",
       "...              ...    ...    ...    ...   ...    ...    ...    ...    ...   \n",
       "2019-08-26    5.0000  96.50  34.93  41.44  5.60   5.00  96.50  34.93  41.44   \n",
       "2019-08-27    4.9400  96.09  34.72  42.14  5.72   4.94  96.09  34.72  42.14   \n",
       "2019-08-28    4.8900  97.07  34.96  41.68  5.73   4.89  97.07  34.96  41.68   \n",
       "2019-08-29    4.9200  97.70  35.15  42.49  5.79   4.92  97.70  35.15  42.49   \n",
       "2019-08-30    4.9600  96.56  35.26  42.65  5.71   4.96  96.56  35.26  42.65   \n",
       "\n",
       "                  ...   Open                                Volume            \\\n",
       "            ZNGA  ...    NOK   SBUX      T   TWTR   ZNGA       NOK      SBUX   \n",
       "Date              ...                                                          \n",
       "2008-12-31  9.50  ...  15.45   4.66  28.19  45.10  11.00  10274800   9856800   \n",
       "2009-01-02  9.50  ...  15.57   4.70  28.74  45.10  11.00   8119200  14885400   \n",
       "2009-01-05  9.50  ...  15.92   4.94  28.80  45.10  11.00  11639000  16070600   \n",
       "2009-01-06  9.50  ...  16.03   5.03  28.51  45.10  11.00  10237800  17609800   \n",
       "2009-01-07  9.50  ...  15.82   5.02  27.65  45.10  11.00  19023100  24216600   \n",
       "...          ...  ...    ...    ...    ...    ...    ...       ...       ...   \n",
       "2019-08-26  5.60  ...   5.02  95.38  34.97  41.40   5.63  10257400   5802600   \n",
       "2019-08-27  5.72  ...   5.01  96.70  35.01  42.01   5.74  19466000   6539800   \n",
       "2019-08-28  5.73  ...   4.87  96.23  34.67  41.75   5.68  17065200   4948800   \n",
       "2019-08-29  5.79  ...   4.90  97.85  35.11  42.25   5.77  11566500   4514300   \n",
       "2019-08-30  5.71  ...   4.97  98.14  35.18  42.70   5.82   9925300   5209500   \n",
       "\n",
       "                                                \n",
       "                   T         TWTR         ZNGA  \n",
       "Date                                            \n",
       "2008-12-31  20764700  117701600.0  116817000.0  \n",
       "2009-01-02  21879800  117701600.0  116817000.0  \n",
       "2009-01-05  32414700  117701600.0  116817000.0  \n",
       "2009-01-06  28746100  117701600.0  116817000.0  \n",
       "2009-01-07  30532700  117701600.0  116817000.0  \n",
       "...              ...          ...          ...  \n",
       "2019-08-26  23197300    6403600.0   19077800.0  \n",
       "2019-08-27  32081200   16087500.0   19151700.0  \n",
       "2019-08-28  24366400   10418400.0   17534400.0  \n",
       "2019-08-29  23293500   10594400.0   10097100.0  \n",
       "2019-08-30  21609100    8863600.0    8402900.0  \n",
       "\n",
       "[2685 rows x 30 columns]"
      ]
     },
     "execution_count": 43,
     "metadata": {},
     "output_type": "execute_result"
    }
   ],
   "source": [
    "data"
   ]
  },
  {
   "cell_type": "code",
   "execution_count": 23,
   "metadata": {},
   "outputs": [
    {
     "data": {
      "text/plain": [
       "MultiIndex([('Adj Close',  'NOK'),\n",
       "            ('Adj Close', 'SBUX'),\n",
       "            ('Adj Close',    'T'),\n",
       "            ('Adj Close', 'TWTR'),\n",
       "            ('Adj Close', 'ZNGA'),\n",
       "            (    'Close',  'NOK'),\n",
       "            (    'Close', 'SBUX'),\n",
       "            (    'Close',    'T'),\n",
       "            (    'Close', 'TWTR'),\n",
       "            (    'Close', 'ZNGA'),\n",
       "            (     'High',  'NOK'),\n",
       "            (     'High', 'SBUX'),\n",
       "            (     'High',    'T'),\n",
       "            (     'High', 'TWTR'),\n",
       "            (     'High', 'ZNGA'),\n",
       "            (      'Low',  'NOK'),\n",
       "            (      'Low', 'SBUX'),\n",
       "            (      'Low',    'T'),\n",
       "            (      'Low', 'TWTR'),\n",
       "            (      'Low', 'ZNGA'),\n",
       "            (     'Open',  'NOK'),\n",
       "            (     'Open', 'SBUX'),\n",
       "            (     'Open',    'T'),\n",
       "            (     'Open', 'TWTR'),\n",
       "            (     'Open', 'ZNGA'),\n",
       "            (   'Volume',  'NOK'),\n",
       "            (   'Volume', 'SBUX'),\n",
       "            (   'Volume',    'T'),\n",
       "            (   'Volume', 'TWTR'),\n",
       "            (   'Volume', 'ZNGA')],\n",
       "           )"
      ]
     },
     "execution_count": 23,
     "metadata": {},
     "output_type": "execute_result"
    }
   ],
   "source": [
    "data.columns"
   ]
  },
  {
   "cell_type": "code",
   "execution_count": 24,
   "metadata": {},
   "outputs": [
    {
     "data": {
      "text/html": [
       "<div>\n",
       "<style scoped>\n",
       "    .dataframe tbody tr th:only-of-type {\n",
       "        vertical-align: middle;\n",
       "    }\n",
       "\n",
       "    .dataframe tbody tr th {\n",
       "        vertical-align: top;\n",
       "    }\n",
       "\n",
       "    .dataframe thead tr th {\n",
       "        text-align: left;\n",
       "    }\n",
       "\n",
       "    .dataframe thead tr:last-of-type th {\n",
       "        text-align: right;\n",
       "    }\n",
       "</style>\n",
       "<table border=\"1\" class=\"dataframe\">\n",
       "  <thead>\n",
       "    <tr>\n",
       "      <th></th>\n",
       "      <th colspan=\"5\" halign=\"left\">Adj Close</th>\n",
       "      <th colspan=\"5\" halign=\"left\">Close</th>\n",
       "      <th>...</th>\n",
       "      <th colspan=\"5\" halign=\"left\">Open</th>\n",
       "      <th colspan=\"5\" halign=\"left\">Volume</th>\n",
       "    </tr>\n",
       "    <tr>\n",
       "      <th></th>\n",
       "      <th>NOK</th>\n",
       "      <th>SBUX</th>\n",
       "      <th>T</th>\n",
       "      <th>TWTR</th>\n",
       "      <th>ZNGA</th>\n",
       "      <th>NOK</th>\n",
       "      <th>SBUX</th>\n",
       "      <th>T</th>\n",
       "      <th>TWTR</th>\n",
       "      <th>ZNGA</th>\n",
       "      <th>...</th>\n",
       "      <th>NOK</th>\n",
       "      <th>SBUX</th>\n",
       "      <th>T</th>\n",
       "      <th>TWTR</th>\n",
       "      <th>ZNGA</th>\n",
       "      <th>NOK</th>\n",
       "      <th>SBUX</th>\n",
       "      <th>T</th>\n",
       "      <th>TWTR</th>\n",
       "      <th>ZNGA</th>\n",
       "    </tr>\n",
       "    <tr>\n",
       "      <th>Date</th>\n",
       "      <th></th>\n",
       "      <th></th>\n",
       "      <th></th>\n",
       "      <th></th>\n",
       "      <th></th>\n",
       "      <th></th>\n",
       "      <th></th>\n",
       "      <th></th>\n",
       "      <th></th>\n",
       "      <th></th>\n",
       "      <th></th>\n",
       "      <th></th>\n",
       "      <th></th>\n",
       "      <th></th>\n",
       "      <th></th>\n",
       "      <th></th>\n",
       "      <th></th>\n",
       "      <th></th>\n",
       "      <th></th>\n",
       "      <th></th>\n",
       "      <th></th>\n",
       "    </tr>\n",
       "  </thead>\n",
       "  <tbody>\n",
       "    <tr>\n",
       "      <td>2008-12-31</td>\n",
       "      <td>10.4763</td>\n",
       "      <td>4.06</td>\n",
       "      <td>15.69</td>\n",
       "      <td>44.9</td>\n",
       "      <td>9.5</td>\n",
       "      <td>15.60</td>\n",
       "      <td>4.73</td>\n",
       "      <td>28.50</td>\n",
       "      <td>44.9</td>\n",
       "      <td>9.5</td>\n",
       "      <td>...</td>\n",
       "      <td>15.45</td>\n",
       "      <td>4.66</td>\n",
       "      <td>28.19</td>\n",
       "      <td>45.1</td>\n",
       "      <td>11.0</td>\n",
       "      <td>10274800</td>\n",
       "      <td>9856800</td>\n",
       "      <td>20764700</td>\n",
       "      <td>117701600.0</td>\n",
       "      <td>116817000.0</td>\n",
       "    </tr>\n",
       "    <tr>\n",
       "      <td>2009-01-02</td>\n",
       "      <td>10.7314</td>\n",
       "      <td>4.22</td>\n",
       "      <td>16.19</td>\n",
       "      <td>44.9</td>\n",
       "      <td>9.5</td>\n",
       "      <td>15.98</td>\n",
       "      <td>4.92</td>\n",
       "      <td>29.42</td>\n",
       "      <td>44.9</td>\n",
       "      <td>9.5</td>\n",
       "      <td>...</td>\n",
       "      <td>15.57</td>\n",
       "      <td>4.70</td>\n",
       "      <td>28.74</td>\n",
       "      <td>45.1</td>\n",
       "      <td>11.0</td>\n",
       "      <td>8119200</td>\n",
       "      <td>14885400</td>\n",
       "      <td>21879800</td>\n",
       "      <td>117701600.0</td>\n",
       "      <td>116817000.0</td>\n",
       "    </tr>\n",
       "    <tr>\n",
       "      <td>2009-01-05</td>\n",
       "      <td>10.6912</td>\n",
       "      <td>4.25</td>\n",
       "      <td>15.65</td>\n",
       "      <td>44.9</td>\n",
       "      <td>9.5</td>\n",
       "      <td>15.92</td>\n",
       "      <td>4.96</td>\n",
       "      <td>28.43</td>\n",
       "      <td>44.9</td>\n",
       "      <td>9.5</td>\n",
       "      <td>...</td>\n",
       "      <td>15.92</td>\n",
       "      <td>4.94</td>\n",
       "      <td>28.80</td>\n",
       "      <td>45.1</td>\n",
       "      <td>11.0</td>\n",
       "      <td>11639000</td>\n",
       "      <td>16070600</td>\n",
       "      <td>32414700</td>\n",
       "      <td>117701600.0</td>\n",
       "      <td>116817000.0</td>\n",
       "    </tr>\n",
       "    <tr>\n",
       "      <td>2009-01-06</td>\n",
       "      <td>10.8859</td>\n",
       "      <td>4.38</td>\n",
       "      <td>15.58</td>\n",
       "      <td>44.9</td>\n",
       "      <td>9.5</td>\n",
       "      <td>16.21</td>\n",
       "      <td>5.11</td>\n",
       "      <td>28.30</td>\n",
       "      <td>44.9</td>\n",
       "      <td>9.5</td>\n",
       "      <td>...</td>\n",
       "      <td>16.03</td>\n",
       "      <td>5.03</td>\n",
       "      <td>28.51</td>\n",
       "      <td>45.1</td>\n",
       "      <td>11.0</td>\n",
       "      <td>10237800</td>\n",
       "      <td>17609800</td>\n",
       "      <td>28746100</td>\n",
       "      <td>117701600.0</td>\n",
       "      <td>116817000.0</td>\n",
       "    </tr>\n",
       "    <tr>\n",
       "      <td>2009-01-07</td>\n",
       "      <td>10.5165</td>\n",
       "      <td>4.28</td>\n",
       "      <td>15.20</td>\n",
       "      <td>44.9</td>\n",
       "      <td>9.5</td>\n",
       "      <td>15.66</td>\n",
       "      <td>4.99</td>\n",
       "      <td>27.21</td>\n",
       "      <td>44.9</td>\n",
       "      <td>9.5</td>\n",
       "      <td>...</td>\n",
       "      <td>15.82</td>\n",
       "      <td>5.02</td>\n",
       "      <td>27.65</td>\n",
       "      <td>45.1</td>\n",
       "      <td>11.0</td>\n",
       "      <td>19023100</td>\n",
       "      <td>24216600</td>\n",
       "      <td>30532700</td>\n",
       "      <td>117701600.0</td>\n",
       "      <td>116817000.0</td>\n",
       "    </tr>\n",
       "  </tbody>\n",
       "</table>\n",
       "<p>5 rows × 30 columns</p>\n",
       "</div>"
      ],
      "text/plain": [
       "           Adj Close                          Close                          \\\n",
       "                 NOK  SBUX      T  TWTR ZNGA    NOK  SBUX      T  TWTR ZNGA   \n",
       "Date                                                                          \n",
       "2008-12-31   10.4763  4.06  15.69  44.9  9.5  15.60  4.73  28.50  44.9  9.5   \n",
       "2009-01-02   10.7314  4.22  16.19  44.9  9.5  15.98  4.92  29.42  44.9  9.5   \n",
       "2009-01-05   10.6912  4.25  15.65  44.9  9.5  15.92  4.96  28.43  44.9  9.5   \n",
       "2009-01-06   10.8859  4.38  15.58  44.9  9.5  16.21  5.11  28.30  44.9  9.5   \n",
       "2009-01-07   10.5165  4.28  15.20  44.9  9.5  15.66  4.99  27.21  44.9  9.5   \n",
       "\n",
       "            ...   Open                             Volume                      \\\n",
       "            ...    NOK  SBUX      T  TWTR  ZNGA       NOK      SBUX         T   \n",
       "Date        ...                                                                 \n",
       "2008-12-31  ...  15.45  4.66  28.19  45.1  11.0  10274800   9856800  20764700   \n",
       "2009-01-02  ...  15.57  4.70  28.74  45.1  11.0   8119200  14885400  21879800   \n",
       "2009-01-05  ...  15.92  4.94  28.80  45.1  11.0  11639000  16070600  32414700   \n",
       "2009-01-06  ...  16.03  5.03  28.51  45.1  11.0  10237800  17609800  28746100   \n",
       "2009-01-07  ...  15.82  5.02  27.65  45.1  11.0  19023100  24216600  30532700   \n",
       "\n",
       "                                      \n",
       "                   TWTR         ZNGA  \n",
       "Date                                  \n",
       "2008-12-31  117701600.0  116817000.0  \n",
       "2009-01-02  117701600.0  116817000.0  \n",
       "2009-01-05  117701600.0  116817000.0  \n",
       "2009-01-06  117701600.0  116817000.0  \n",
       "2009-01-07  117701600.0  116817000.0  \n",
       "\n",
       "[5 rows x 30 columns]"
      ]
     },
     "execution_count": 24,
     "metadata": {},
     "output_type": "execute_result"
    }
   ],
   "source": [
    "data.head()"
   ]
  },
  {
   "cell_type": "code",
   "execution_count": 25,
   "metadata": {},
   "outputs": [],
   "source": [
    "pylab.rcParams['figure.figsize'] = (15, 9)   "
   ]
  },
  {
   "cell_type": "code",
   "execution_count": 26,
   "metadata": {},
   "outputs": [
    {
     "data": {
      "text/plain": [
       "<matplotlib.axes._subplots.AxesSubplot at 0x110d50e80>"
      ]
     },
     "execution_count": 26,
     "metadata": {},
     "output_type": "execute_result"
    },
    {
     "data": {
      "image/png": "[encoded data removed]",
      "text/plain": [
       "<Figure size 1080x648 with 1 Axes>"
      ]
     },
     "metadata": {
      "needs_background": "light"
     },
     "output_type": "display_data"
    }
   ],
   "source": [
    "data[\"Adj Close\"].plot(grid = True)"
   ]
  },
  {
   "cell_type": "code",
   "execution_count": 72,
   "metadata": {},
   "outputs": [],
   "source": [
    "daily_return=data[\"Adj Close\"].pct_change()"
   ]
  },
  {
   "cell_type": "code",
   "execution_count": 73,
   "metadata": {},
   "outputs": [
    {
     "data": {
      "text/html": [
       "<div>\n",
       "<style scoped>\n",
       "    .dataframe tbody tr th:only-of-type {\n",
       "        vertical-align: middle;\n",
       "    }\n",
       "\n",
       "    .dataframe tbody tr th {\n",
       "        vertical-align: top;\n",
       "    }\n",
       "\n",
       "    .dataframe thead th {\n",
       "        text-align: right;\n",
       "    }\n",
       "</style>\n",
       "<table border=\"1\" class=\"dataframe\">\n",
       "  <thead>\n",
       "    <tr style=\"text-align: right;\">\n",
       "      <th></th>\n",
       "      <th>NOK</th>\n",
       "      <th>SBUX</th>\n",
       "      <th>T</th>\n",
       "      <th>TWTR</th>\n",
       "      <th>ZNGA</th>\n",
       "    </tr>\n",
       "    <tr>\n",
       "      <th>Date</th>\n",
       "      <th></th>\n",
       "      <th></th>\n",
       "      <th></th>\n",
       "      <th></th>\n",
       "      <th></th>\n",
       "    </tr>\n",
       "  </thead>\n",
       "  <tbody>\n",
       "    <tr>\n",
       "      <td>2008-12-31</td>\n",
       "      <td>NaN</td>\n",
       "      <td>NaN</td>\n",
       "      <td>NaN</td>\n",
       "      <td>NaN</td>\n",
       "      <td>NaN</td>\n",
       "    </tr>\n",
       "    <tr>\n",
       "      <td>2009-01-02</td>\n",
       "      <td>0.024350</td>\n",
       "      <td>0.039409</td>\n",
       "      <td>0.031867</td>\n",
       "      <td>0.000000</td>\n",
       "      <td>0.000000</td>\n",
       "    </tr>\n",
       "    <tr>\n",
       "      <td>2009-01-05</td>\n",
       "      <td>-0.003746</td>\n",
       "      <td>0.007109</td>\n",
       "      <td>-0.033354</td>\n",
       "      <td>0.000000</td>\n",
       "      <td>0.000000</td>\n",
       "    </tr>\n",
       "    <tr>\n",
       "      <td>2009-01-06</td>\n",
       "      <td>0.018211</td>\n",
       "      <td>0.030588</td>\n",
       "      <td>-0.004473</td>\n",
       "      <td>0.000000</td>\n",
       "      <td>0.000000</td>\n",
       "    </tr>\n",
       "    <tr>\n",
       "      <td>2009-01-07</td>\n",
       "      <td>-0.033934</td>\n",
       "      <td>-0.022831</td>\n",
       "      <td>-0.024390</td>\n",
       "      <td>0.000000</td>\n",
       "      <td>0.000000</td>\n",
       "    </tr>\n",
       "    <tr>\n",
       "      <td>...</td>\n",
       "      <td>...</td>\n",
       "      <td>...</td>\n",
       "      <td>...</td>\n",
       "      <td>...</td>\n",
       "      <td>...</td>\n",
       "    </tr>\n",
       "    <tr>\n",
       "      <td>2019-08-26</td>\n",
       "      <td>-0.001996</td>\n",
       "      <td>0.019007</td>\n",
       "      <td>0.003159</td>\n",
       "      <td>0.010732</td>\n",
       "      <td>0.005386</td>\n",
       "    </tr>\n",
       "    <tr>\n",
       "      <td>2019-08-27</td>\n",
       "      <td>-0.012000</td>\n",
       "      <td>-0.004249</td>\n",
       "      <td>-0.006012</td>\n",
       "      <td>0.016892</td>\n",
       "      <td>0.021429</td>\n",
       "    </tr>\n",
       "    <tr>\n",
       "      <td>2019-08-28</td>\n",
       "      <td>-0.010121</td>\n",
       "      <td>0.010199</td>\n",
       "      <td>0.006912</td>\n",
       "      <td>-0.010916</td>\n",
       "      <td>0.001748</td>\n",
       "    </tr>\n",
       "    <tr>\n",
       "      <td>2019-08-29</td>\n",
       "      <td>0.006135</td>\n",
       "      <td>0.006490</td>\n",
       "      <td>0.005435</td>\n",
       "      <td>0.019434</td>\n",
       "      <td>0.010471</td>\n",
       "    </tr>\n",
       "    <tr>\n",
       "      <td>2019-08-30</td>\n",
       "      <td>0.008130</td>\n",
       "      <td>-0.011668</td>\n",
       "      <td>0.003129</td>\n",
       "      <td>0.003766</td>\n",
       "      <td>-0.013817</td>\n",
       "    </tr>\n",
       "  </tbody>\n",
       "</table>\n",
       "<p>2685 rows × 5 columns</p>\n",
       "</div>"
      ],
      "text/plain": [
       "                 NOK      SBUX         T      TWTR      ZNGA\n",
       "Date                                                        \n",
       "2008-12-31       NaN       NaN       NaN       NaN       NaN\n",
       "2009-01-02  0.024350  0.039409  0.031867  0.000000  0.000000\n",
       "2009-01-05 -0.003746  0.007109 -0.033354  0.000000  0.000000\n",
       "2009-01-06  0.018211  0.030588 -0.004473  0.000000  0.000000\n",
       "2009-01-07 -0.033934 -0.022831 -0.024390  0.000000  0.000000\n",
       "...              ...       ...       ...       ...       ...\n",
       "2019-08-26 -0.001996  0.019007  0.003159  0.010732  0.005386\n",
       "2019-08-27 -0.012000 -0.004249 -0.006012  0.016892  0.021429\n",
       "2019-08-28 -0.010121  0.010199  0.006912 -0.010916  0.001748\n",
       "2019-08-29  0.006135  0.006490  0.005435  0.019434  0.010471\n",
       "2019-08-30  0.008130 -0.011668  0.003129  0.003766 -0.013817\n",
       "\n",
       "[2685 rows x 5 columns]"
      ]
     },
     "execution_count": 73,
     "metadata": {},
     "output_type": "execute_result"
    }
   ],
   "source": [
    "daily_return"
   ]
  },
  {
   "cell_type": "code",
   "execution_count": 75,
   "metadata": {},
   "outputs": [],
   "source": [
    "daily_log_returns = np.log(daily_return+1)"
   ]
  },
  {
   "cell_type": "code",
   "execution_count": 76,
   "metadata": {},
   "outputs": [
    {
     "data": {
      "text/html": [
       "<div>\n",
       "<style scoped>\n",
       "    .dataframe tbody tr th:only-of-type {\n",
       "        vertical-align: middle;\n",
       "    }\n",
       "\n",
       "    .dataframe tbody tr th {\n",
       "        vertical-align: top;\n",
       "    }\n",
       "\n",
       "    .dataframe thead th {\n",
       "        text-align: right;\n",
       "    }\n",
       "</style>\n",
       "<table border=\"1\" class=\"dataframe\">\n",
       "  <thead>\n",
       "    <tr style=\"text-align: right;\">\n",
       "      <th></th>\n",
       "      <th>NOK</th>\n",
       "      <th>SBUX</th>\n",
       "      <th>T</th>\n",
       "      <th>TWTR</th>\n",
       "      <th>ZNGA</th>\n",
       "    </tr>\n",
       "    <tr>\n",
       "      <th>Date</th>\n",
       "      <th></th>\n",
       "      <th></th>\n",
       "      <th></th>\n",
       "      <th></th>\n",
       "      <th></th>\n",
       "    </tr>\n",
       "  </thead>\n",
       "  <tbody>\n",
       "    <tr>\n",
       "      <td>2008-12-31</td>\n",
       "      <td>NaN</td>\n",
       "      <td>NaN</td>\n",
       "      <td>NaN</td>\n",
       "      <td>NaN</td>\n",
       "      <td>NaN</td>\n",
       "    </tr>\n",
       "    <tr>\n",
       "      <td>2009-01-02</td>\n",
       "      <td>0.024058</td>\n",
       "      <td>0.038652</td>\n",
       "      <td>0.031370</td>\n",
       "      <td>0.000000</td>\n",
       "      <td>0.000000</td>\n",
       "    </tr>\n",
       "    <tr>\n",
       "      <td>2009-01-05</td>\n",
       "      <td>-0.003753</td>\n",
       "      <td>0.007084</td>\n",
       "      <td>-0.033923</td>\n",
       "      <td>0.000000</td>\n",
       "      <td>0.000000</td>\n",
       "    </tr>\n",
       "    <tr>\n",
       "      <td>2009-01-06</td>\n",
       "      <td>0.018047</td>\n",
       "      <td>0.030130</td>\n",
       "      <td>-0.004483</td>\n",
       "      <td>0.000000</td>\n",
       "      <td>0.000000</td>\n",
       "    </tr>\n",
       "    <tr>\n",
       "      <td>2009-01-07</td>\n",
       "      <td>-0.034523</td>\n",
       "      <td>-0.023096</td>\n",
       "      <td>-0.024693</td>\n",
       "      <td>0.000000</td>\n",
       "      <td>0.000000</td>\n",
       "    </tr>\n",
       "    <tr>\n",
       "      <td>...</td>\n",
       "      <td>...</td>\n",
       "      <td>...</td>\n",
       "      <td>...</td>\n",
       "      <td>...</td>\n",
       "      <td>...</td>\n",
       "    </tr>\n",
       "    <tr>\n",
       "      <td>2019-08-26</td>\n",
       "      <td>-0.001998</td>\n",
       "      <td>0.018829</td>\n",
       "      <td>0.003154</td>\n",
       "      <td>0.010675</td>\n",
       "      <td>0.005372</td>\n",
       "    </tr>\n",
       "    <tr>\n",
       "      <td>2019-08-27</td>\n",
       "      <td>-0.012073</td>\n",
       "      <td>-0.004258</td>\n",
       "      <td>-0.006030</td>\n",
       "      <td>0.016751</td>\n",
       "      <td>0.021202</td>\n",
       "    </tr>\n",
       "    <tr>\n",
       "      <td>2019-08-28</td>\n",
       "      <td>-0.010173</td>\n",
       "      <td>0.010147</td>\n",
       "      <td>0.006889</td>\n",
       "      <td>-0.010976</td>\n",
       "      <td>0.001747</td>\n",
       "    </tr>\n",
       "    <tr>\n",
       "      <td>2019-08-29</td>\n",
       "      <td>0.006116</td>\n",
       "      <td>0.006469</td>\n",
       "      <td>0.005420</td>\n",
       "      <td>0.019247</td>\n",
       "      <td>0.010417</td>\n",
       "    </tr>\n",
       "    <tr>\n",
       "      <td>2019-08-30</td>\n",
       "      <td>0.008097</td>\n",
       "      <td>-0.011737</td>\n",
       "      <td>0.003125</td>\n",
       "      <td>0.003759</td>\n",
       "      <td>-0.013913</td>\n",
       "    </tr>\n",
       "  </tbody>\n",
       "</table>\n",
       "<p>2685 rows × 5 columns</p>\n",
       "</div>"
      ],
      "text/plain": [
       "                 NOK      SBUX         T      TWTR      ZNGA\n",
       "Date                                                        \n",
       "2008-12-31       NaN       NaN       NaN       NaN       NaN\n",
       "2009-01-02  0.024058  0.038652  0.031370  0.000000  0.000000\n",
       "2009-01-05 -0.003753  0.007084 -0.033923  0.000000  0.000000\n",
       "2009-01-06  0.018047  0.030130 -0.004483  0.000000  0.000000\n",
       "2009-01-07 -0.034523 -0.023096 -0.024693  0.000000  0.000000\n",
       "...              ...       ...       ...       ...       ...\n",
       "2019-08-26 -0.001998  0.018829  0.003154  0.010675  0.005372\n",
       "2019-08-27 -0.012073 -0.004258 -0.006030  0.016751  0.021202\n",
       "2019-08-28 -0.010173  0.010147  0.006889 -0.010976  0.001747\n",
       "2019-08-29  0.006116  0.006469  0.005420  0.019247  0.010417\n",
       "2019-08-30  0.008097 -0.011737  0.003125  0.003759 -0.013913\n",
       "\n",
       "[2685 rows x 5 columns]"
      ]
     },
     "execution_count": 76,
     "metadata": {},
     "output_type": "execute_result"
    }
   ],
   "source": [
    "daily_log_returns"
   ]
  },
  {
   "cell_type": "code",
   "execution_count": 77,
   "metadata": {},
   "outputs": [],
   "source": [
    "yearly_returns = data['Adj Close'].resample('A').ffill().pct_change()"
   ]
  },
  {
   "cell_type": "code",
   "execution_count": 78,
   "metadata": {},
   "outputs": [
    {
     "data": {
      "text/html": [
       "<div>\n",
       "<style scoped>\n",
       "    .dataframe tbody tr th:only-of-type {\n",
       "        vertical-align: middle;\n",
       "    }\n",
       "\n",
       "    .dataframe tbody tr th {\n",
       "        vertical-align: top;\n",
       "    }\n",
       "\n",
       "    .dataframe thead th {\n",
       "        text-align: right;\n",
       "    }\n",
       "</style>\n",
       "<table border=\"1\" class=\"dataframe\">\n",
       "  <thead>\n",
       "    <tr style=\"text-align: right;\">\n",
       "      <th></th>\n",
       "      <th>NOK</th>\n",
       "      <th>SBUX</th>\n",
       "      <th>T</th>\n",
       "      <th>TWTR</th>\n",
       "      <th>ZNGA</th>\n",
       "    </tr>\n",
       "    <tr>\n",
       "      <th>Date</th>\n",
       "      <th></th>\n",
       "      <th></th>\n",
       "      <th></th>\n",
       "      <th></th>\n",
       "      <th></th>\n",
       "    </tr>\n",
       "  </thead>\n",
       "  <tbody>\n",
       "    <tr>\n",
       "      <td>2008-12-31</td>\n",
       "      <td>NaN</td>\n",
       "      <td>NaN</td>\n",
       "      <td>NaN</td>\n",
       "      <td>NaN</td>\n",
       "      <td>NaN</td>\n",
       "    </tr>\n",
       "    <tr>\n",
       "      <td>2009-12-31</td>\n",
       "      <td>-0.144746</td>\n",
       "      <td>1.433498</td>\n",
       "      <td>0.046526</td>\n",
       "      <td>0.000000</td>\n",
       "      <td>0.000000</td>\n",
       "    </tr>\n",
       "    <tr>\n",
       "      <td>2010-12-31</td>\n",
       "      <td>-0.166352</td>\n",
       "      <td>0.412955</td>\n",
       "      <td>0.116322</td>\n",
       "      <td>0.000000</td>\n",
       "      <td>0.000000</td>\n",
       "    </tr>\n",
       "    <tr>\n",
       "      <td>2011-12-31</td>\n",
       "      <td>-0.502410</td>\n",
       "      <td>0.454155</td>\n",
       "      <td>0.090016</td>\n",
       "      <td>0.000000</td>\n",
       "      <td>-0.009474</td>\n",
       "    </tr>\n",
       "    <tr>\n",
       "      <td>2012-12-31</td>\n",
       "      <td>-0.117524</td>\n",
       "      <td>0.182759</td>\n",
       "      <td>0.174675</td>\n",
       "      <td>0.000000</td>\n",
       "      <td>-0.749203</td>\n",
       "    </tr>\n",
       "    <tr>\n",
       "      <td>2013-12-31</td>\n",
       "      <td>1.053172</td>\n",
       "      <td>0.480633</td>\n",
       "      <td>0.097571</td>\n",
       "      <td>0.417595</td>\n",
       "      <td>0.610169</td>\n",
       "    </tr>\n",
       "    <tr>\n",
       "      <td>2014-12-31</td>\n",
       "      <td>-0.013038</td>\n",
       "      <td>0.062447</td>\n",
       "      <td>0.006599</td>\n",
       "      <td>-0.436449</td>\n",
       "      <td>-0.300000</td>\n",
       "    </tr>\n",
       "    <tr>\n",
       "      <td>2015-12-31</td>\n",
       "      <td>-0.085054</td>\n",
       "      <td>0.482129</td>\n",
       "      <td>0.082916</td>\n",
       "      <td>-0.354893</td>\n",
       "      <td>0.007519</td>\n",
       "    </tr>\n",
       "    <tr>\n",
       "      <td>2016-12-31</td>\n",
       "      <td>-0.277581</td>\n",
       "      <td>-0.061272</td>\n",
       "      <td>0.298789</td>\n",
       "      <td>-0.295592</td>\n",
       "      <td>-0.041045</td>\n",
       "    </tr>\n",
       "    <tr>\n",
       "      <td>2017-12-31</td>\n",
       "      <td>-0.002231</td>\n",
       "      <td>0.053663</td>\n",
       "      <td>-0.040033</td>\n",
       "      <td>0.473006</td>\n",
       "      <td>0.556420</td>\n",
       "    </tr>\n",
       "    <tr>\n",
       "      <td>2018-12-31</td>\n",
       "      <td>0.300436</td>\n",
       "      <td>0.147372</td>\n",
       "      <td>-0.222508</td>\n",
       "      <td>0.197001</td>\n",
       "      <td>-0.017500</td>\n",
       "    </tr>\n",
       "    <tr>\n",
       "      <td>2019-12-31</td>\n",
       "      <td>-0.129855</td>\n",
       "      <td>0.519912</td>\n",
       "      <td>0.295371</td>\n",
       "      <td>0.483994</td>\n",
       "      <td>0.452926</td>\n",
       "    </tr>\n",
       "  </tbody>\n",
       "</table>\n",
       "</div>"
      ],
      "text/plain": [
       "                 NOK      SBUX         T      TWTR      ZNGA\n",
       "Date                                                        \n",
       "2008-12-31       NaN       NaN       NaN       NaN       NaN\n",
       "2009-12-31 -0.144746  1.433498  0.046526  0.000000  0.000000\n",
       "2010-12-31 -0.166352  0.412955  0.116322  0.000000  0.000000\n",
       "2011-12-31 -0.502410  0.454155  0.090016  0.000000 -0.009474\n",
       "2012-12-31 -0.117524  0.182759  0.174675  0.000000 -0.749203\n",
       "2013-12-31  1.053172  0.480633  0.097571  0.417595  0.610169\n",
       "2014-12-31 -0.013038  0.062447  0.006599 -0.436449 -0.300000\n",
       "2015-12-31 -0.085054  0.482129  0.082916 -0.354893  0.007519\n",
       "2016-12-31 -0.277581 -0.061272  0.298789 -0.295592 -0.041045\n",
       "2017-12-31 -0.002231  0.053663 -0.040033  0.473006  0.556420\n",
       "2018-12-31  0.300436  0.147372 -0.222508  0.197001 -0.017500\n",
       "2019-12-31 -0.129855  0.519912  0.295371  0.483994  0.452926"
      ]
     },
     "execution_count": 78,
     "metadata": {},
     "output_type": "execute_result"
    }
   ],
   "source": [
    "yearly_returns"
   ]
  },
  {
   "cell_type": "code",
   "execution_count": 79,
   "metadata": {},
   "outputs": [
    {
     "data": {
      "text/plain": [
       "<matplotlib.axes._subplots.AxesSubplot at 0x110fe4390>"
      ]
     },
     "execution_count": 79,
     "metadata": {},
     "output_type": "execute_result"
    },
    {
     "data": {
      "image/png": "[encoded data removed]",
      "text/plain": [
       "<Figure size 1080x648 with 1 Axes>"
      ]
     },
     "metadata": {
      "needs_background": "light"
     },
     "output_type": "display_data"
    }
   ],
   "source": [
    "monthly_returns.plot(grid=True)"
   ]
  },
  {
   "cell_type": "code",
   "execution_count": null,
   "metadata": {},
   "outputs": [],
   "source": []
  },
  {
   "cell_type": "code",
   "execution_count": 80,
   "metadata": {},
   "outputs": [],
   "source": [
    "corr_of_daily_returns=daily_return.corr()"
   ]
  },
  {
   "cell_type": "code",
   "execution_count": 81,
   "metadata": {},
   "outputs": [
    {
     "data": {
      "text/html": [
       "<div>\n",
       "<style scoped>\n",
       "    .dataframe tbody tr th:only-of-type {\n",
       "        vertical-align: middle;\n",
       "    }\n",
       "\n",
       "    .dataframe tbody tr th {\n",
       "        vertical-align: top;\n",
       "    }\n",
       "\n",
       "    .dataframe thead th {\n",
       "        text-align: right;\n",
       "    }\n",
       "</style>\n",
       "<table border=\"1\" class=\"dataframe\">\n",
       "  <thead>\n",
       "    <tr style=\"text-align: right;\">\n",
       "      <th></th>\n",
       "      <th>NOK</th>\n",
       "      <th>SBUX</th>\n",
       "      <th>T</th>\n",
       "      <th>TWTR</th>\n",
       "      <th>ZNGA</th>\n",
       "    </tr>\n",
       "  </thead>\n",
       "  <tbody>\n",
       "    <tr>\n",
       "      <td>NOK</td>\n",
       "      <td>1.000000</td>\n",
       "      <td>0.262714</td>\n",
       "      <td>0.271907</td>\n",
       "      <td>0.041711</td>\n",
       "      <td>0.086347</td>\n",
       "    </tr>\n",
       "    <tr>\n",
       "      <td>SBUX</td>\n",
       "      <td>0.262714</td>\n",
       "      <td>1.000000</td>\n",
       "      <td>0.341397</td>\n",
       "      <td>0.077946</td>\n",
       "      <td>0.085354</td>\n",
       "    </tr>\n",
       "    <tr>\n",
       "      <td>T</td>\n",
       "      <td>0.271907</td>\n",
       "      <td>0.341397</td>\n",
       "      <td>1.000000</td>\n",
       "      <td>0.050938</td>\n",
       "      <td>0.024337</td>\n",
       "    </tr>\n",
       "    <tr>\n",
       "      <td>TWTR</td>\n",
       "      <td>0.041711</td>\n",
       "      <td>0.077946</td>\n",
       "      <td>0.050938</td>\n",
       "      <td>1.000000</td>\n",
       "      <td>0.149681</td>\n",
       "    </tr>\n",
       "    <tr>\n",
       "      <td>ZNGA</td>\n",
       "      <td>0.086347</td>\n",
       "      <td>0.085354</td>\n",
       "      <td>0.024337</td>\n",
       "      <td>0.149681</td>\n",
       "      <td>1.000000</td>\n",
       "    </tr>\n",
       "  </tbody>\n",
       "</table>\n",
       "</div>"
      ],
      "text/plain": [
       "           NOK      SBUX         T      TWTR      ZNGA\n",
       "NOK   1.000000  0.262714  0.271907  0.041711  0.086347\n",
       "SBUX  0.262714  1.000000  0.341397  0.077946  0.085354\n",
       "T     0.271907  0.341397  1.000000  0.050938  0.024337\n",
       "TWTR  0.041711  0.077946  0.050938  1.000000  0.149681\n",
       "ZNGA  0.086347  0.085354  0.024337  0.149681  1.000000"
      ]
     },
     "execution_count": 81,
     "metadata": {},
     "output_type": "execute_result"
    }
   ],
   "source": [
    "corr_of_daily_returns"
   ]
  },
  {
   "cell_type": "code",
   "execution_count": 82,
   "metadata": {},
   "outputs": [],
   "source": [
    "cov_of_daily_returns=daily_return.cov()"
   ]
  },
  {
   "cell_type": "code",
   "execution_count": 83,
   "metadata": {},
   "outputs": [
    {
     "data": {
      "text/html": [
       "<div>\n",
       "<style scoped>\n",
       "    .dataframe tbody tr th:only-of-type {\n",
       "        vertical-align: middle;\n",
       "    }\n",
       "\n",
       "    .dataframe tbody tr th {\n",
       "        vertical-align: top;\n",
       "    }\n",
       "\n",
       "    .dataframe thead th {\n",
       "        text-align: right;\n",
       "    }\n",
       "</style>\n",
       "<table border=\"1\" class=\"dataframe\">\n",
       "  <thead>\n",
       "    <tr style=\"text-align: right;\">\n",
       "      <th></th>\n",
       "      <th>NOK</th>\n",
       "      <th>SBUX</th>\n",
       "      <th>T</th>\n",
       "      <th>TWTR</th>\n",
       "      <th>ZNGA</th>\n",
       "    </tr>\n",
       "  </thead>\n",
       "  <tbody>\n",
       "    <tr>\n",
       "      <td>NOK</td>\n",
       "      <td>0.000735</td>\n",
       "      <td>0.000122</td>\n",
       "      <td>0.000083</td>\n",
       "      <td>0.000028</td>\n",
       "      <td>0.000060</td>\n",
       "    </tr>\n",
       "    <tr>\n",
       "      <td>SBUX</td>\n",
       "      <td>0.000122</td>\n",
       "      <td>0.000292</td>\n",
       "      <td>0.000066</td>\n",
       "      <td>0.000033</td>\n",
       "      <td>0.000038</td>\n",
       "    </tr>\n",
       "    <tr>\n",
       "      <td>T</td>\n",
       "      <td>0.000083</td>\n",
       "      <td>0.000066</td>\n",
       "      <td>0.000126</td>\n",
       "      <td>0.000014</td>\n",
       "      <td>0.000007</td>\n",
       "    </tr>\n",
       "    <tr>\n",
       "      <td>TWTR</td>\n",
       "      <td>0.000028</td>\n",
       "      <td>0.000033</td>\n",
       "      <td>0.000014</td>\n",
       "      <td>0.000620</td>\n",
       "      <td>0.000096</td>\n",
       "    </tr>\n",
       "    <tr>\n",
       "      <td>ZNGA</td>\n",
       "      <td>0.000060</td>\n",
       "      <td>0.000038</td>\n",
       "      <td>0.000007</td>\n",
       "      <td>0.000096</td>\n",
       "      <td>0.000661</td>\n",
       "    </tr>\n",
       "  </tbody>\n",
       "</table>\n",
       "</div>"
      ],
      "text/plain": [
       "           NOK      SBUX         T      TWTR      ZNGA\n",
       "NOK   0.000735  0.000122  0.000083  0.000028  0.000060\n",
       "SBUX  0.000122  0.000292  0.000066  0.000033  0.000038\n",
       "T     0.000083  0.000066  0.000126  0.000014  0.000007\n",
       "TWTR  0.000028  0.000033  0.000014  0.000620  0.000096\n",
       "ZNGA  0.000060  0.000038  0.000007  0.000096  0.000661"
      ]
     },
     "execution_count": 83,
     "metadata": {},
     "output_type": "execute_result"
    }
   ],
   "source": [
    "cov_of_daily_returns"
   ]
  },
  {
   "cell_type": "code",
   "execution_count": 85,
   "metadata": {},
   "outputs": [
    {
     "data": {
      "image/png": "[encoded data removed]",
      "text/plain": [
       "<Figure size 1080x648 with 1 Axes>"
      ]
     },
     "metadata": {
      "needs_background": "light"
     },
     "output_type": "display_data"
    }
   ],
   "source": [
    "plt.imshow(corr_of_daily_returns, cmap='hot', interpolation='nearest')\n",
    "plt.show()"
   ]
  },
  {
   "cell_type": "code",
   "execution_count": 86,
   "metadata": {},
   "outputs": [
    {
     "data": {
      "image/png": "[encoded data removed]",
      "text/plain": [
       "<Figure size 1080x648 with 1 Axes>"
      ]
     },
     "metadata": {
      "needs_background": "light"
     },
     "output_type": "display_data"
    }
   ],
   "source": [
    "plt.imshow(cov_of_daily_returns, cmap='hot', interpolation='nearest')\n",
    "plt.show()"
   ]
  },
  {
   "cell_type": "code",
   "execution_count": 88,
   "metadata": {},
   "outputs": [
    {
     "data": {
      "text/plain": [
       "<matplotlib.axes._subplots.AxesSubplot at 0x114ea72e8>"
      ]
     },
     "execution_count": 88,
     "metadata": {},
     "output_type": "execute_result"
    },
    {
     "data": {
      "image/png": "[encoded data removed]",
      "text/plain": [
       "<Figure size 1080x648 with 1 Axes>"
      ]
     },
     "metadata": {
      "needs_background": "light"
     },
     "output_type": "display_data"
    }
   ],
   "source": [
    "daily_return.plot.hist(grid=True, bins=20, rwidth=0.9)"
   ]
  },
  {
   "cell_type": "code",
   "execution_count": 90,
   "metadata": {},
   "outputs": [
    {
     "data": {
      "text/plain": [
       "NOK     0.000088\n",
       "SBUX    0.001326\n",
       "T       0.000365\n",
       "TWTR    0.000295\n",
       "ZNGA    0.000150\n",
       "dtype: float64"
      ]
     },
     "execution_count": 90,
     "metadata": {},
     "output_type": "execute_result"
    }
   ],
   "source": [
    "daily_return.mean()"
   ]
  },
  {
   "cell_type": "code",
   "execution_count": 91,
   "metadata": {},
   "outputs": [
    {
     "data": {
      "text/plain": [
       "NOK     0.000735\n",
       "SBUX    0.000292\n",
       "T       0.000126\n",
       "TWTR    0.000620\n",
       "ZNGA    0.000661\n",
       "dtype: float64"
      ]
     },
     "execution_count": 91,
     "metadata": {},
     "output_type": "execute_result"
    }
   ],
   "source": [
    "daily_return.var()"
   ]
  },
  {
   "cell_type": "code",
   "execution_count": 92,
   "metadata": {},
   "outputs": [
    {
     "data": {
      "text/plain": [
       "NOK     0.344001\n",
       "SBUX    0.768851\n",
       "T      -0.414410\n",
       "TWTR   -0.460278\n",
       "ZNGA   -0.857184\n",
       "dtype: float64"
      ]
     },
     "execution_count": 92,
     "metadata": {},
     "output_type": "execute_result"
    }
   ],
   "source": [
    "daily_return.skew()"
   ]
  },
  {
   "cell_type": "code",
   "execution_count": 95,
   "metadata": {},
   "outputs": [
    {
     "data": {
      "text/plain": [
       "NOK     13.098367\n",
       "SBUX    10.042502\n",
       "T        4.105987\n",
       "TWTR    19.315937\n",
       "ZNGA    26.117864\n",
       "dtype: float64"
      ]
     },
     "execution_count": 95,
     "metadata": {},
     "output_type": "execute_result"
    }
   ],
   "source": [
    "daily_return.kurtosis()"
   ]
  },
  {
   "cell_type": "code",
   "execution_count": 100,
   "metadata": {},
   "outputs": [
    {
     "data": {
      "text/html": [
       "<div>\n",
       "<style scoped>\n",
       "    .dataframe tbody tr th:only-of-type {\n",
       "        vertical-align: middle;\n",
       "    }\n",
       "\n",
       "    .dataframe tbody tr th {\n",
       "        vertical-align: top;\n",
       "    }\n",
       "\n",
       "    .dataframe thead th {\n",
       "        text-align: right;\n",
       "    }\n",
       "</style>\n",
       "<table border=\"1\" class=\"dataframe\">\n",
       "  <thead>\n",
       "    <tr style=\"text-align: right;\">\n",
       "      <th></th>\n",
       "      <th>NOK</th>\n",
       "      <th>SBUX</th>\n",
       "      <th>T</th>\n",
       "      <th>TWTR</th>\n",
       "      <th>ZNGA</th>\n",
       "    </tr>\n",
       "    <tr>\n",
       "      <th>Date</th>\n",
       "      <th></th>\n",
       "      <th></th>\n",
       "      <th></th>\n",
       "      <th></th>\n",
       "      <th></th>\n",
       "    </tr>\n",
       "  </thead>\n",
       "  <tbody>\n",
       "    <tr>\n",
       "      <td>2008-12-31</td>\n",
       "      <td>10.4763</td>\n",
       "      <td>4.06</td>\n",
       "      <td>15.69</td>\n",
       "      <td>44.90</td>\n",
       "      <td>9.50</td>\n",
       "    </tr>\n",
       "    <tr>\n",
       "      <td>2009-01-02</td>\n",
       "      <td>10.7314</td>\n",
       "      <td>4.22</td>\n",
       "      <td>16.19</td>\n",
       "      <td>44.90</td>\n",
       "      <td>9.50</td>\n",
       "    </tr>\n",
       "    <tr>\n",
       "      <td>2009-01-05</td>\n",
       "      <td>10.6912</td>\n",
       "      <td>4.25</td>\n",
       "      <td>15.65</td>\n",
       "      <td>44.90</td>\n",
       "      <td>9.50</td>\n",
       "    </tr>\n",
       "    <tr>\n",
       "      <td>2009-01-06</td>\n",
       "      <td>10.8859</td>\n",
       "      <td>4.38</td>\n",
       "      <td>15.58</td>\n",
       "      <td>44.90</td>\n",
       "      <td>9.50</td>\n",
       "    </tr>\n",
       "    <tr>\n",
       "      <td>2009-01-07</td>\n",
       "      <td>10.5165</td>\n",
       "      <td>4.28</td>\n",
       "      <td>15.20</td>\n",
       "      <td>44.90</td>\n",
       "      <td>9.50</td>\n",
       "    </tr>\n",
       "    <tr>\n",
       "      <td>...</td>\n",
       "      <td>...</td>\n",
       "      <td>...</td>\n",
       "      <td>...</td>\n",
       "      <td>...</td>\n",
       "      <td>...</td>\n",
       "    </tr>\n",
       "    <tr>\n",
       "      <td>2019-08-26</td>\n",
       "      <td>5.0000</td>\n",
       "      <td>96.50</td>\n",
       "      <td>34.93</td>\n",
       "      <td>41.44</td>\n",
       "      <td>5.60</td>\n",
       "    </tr>\n",
       "    <tr>\n",
       "      <td>2019-08-27</td>\n",
       "      <td>4.9400</td>\n",
       "      <td>96.09</td>\n",
       "      <td>34.72</td>\n",
       "      <td>42.14</td>\n",
       "      <td>5.72</td>\n",
       "    </tr>\n",
       "    <tr>\n",
       "      <td>2019-08-28</td>\n",
       "      <td>4.8900</td>\n",
       "      <td>97.07</td>\n",
       "      <td>34.96</td>\n",
       "      <td>41.68</td>\n",
       "      <td>5.73</td>\n",
       "    </tr>\n",
       "    <tr>\n",
       "      <td>2019-08-29</td>\n",
       "      <td>4.9200</td>\n",
       "      <td>97.70</td>\n",
       "      <td>35.15</td>\n",
       "      <td>42.49</td>\n",
       "      <td>5.79</td>\n",
       "    </tr>\n",
       "    <tr>\n",
       "      <td>2019-08-30</td>\n",
       "      <td>4.9600</td>\n",
       "      <td>96.56</td>\n",
       "      <td>35.26</td>\n",
       "      <td>42.65</td>\n",
       "      <td>5.71</td>\n",
       "    </tr>\n",
       "  </tbody>\n",
       "</table>\n",
       "<p>2685 rows × 5 columns</p>\n",
       "</div>"
      ],
      "text/plain": [
       "                NOK   SBUX      T   TWTR  ZNGA\n",
       "Date                                          \n",
       "2008-12-31  10.4763   4.06  15.69  44.90  9.50\n",
       "2009-01-02  10.7314   4.22  16.19  44.90  9.50\n",
       "2009-01-05  10.6912   4.25  15.65  44.90  9.50\n",
       "2009-01-06  10.8859   4.38  15.58  44.90  9.50\n",
       "2009-01-07  10.5165   4.28  15.20  44.90  9.50\n",
       "...             ...    ...    ...    ...   ...\n",
       "2019-08-26   5.0000  96.50  34.93  41.44  5.60\n",
       "2019-08-27   4.9400  96.09  34.72  42.14  5.72\n",
       "2019-08-28   4.8900  97.07  34.96  41.68  5.73\n",
       "2019-08-29   4.9200  97.70  35.15  42.49  5.79\n",
       "2019-08-30   4.9600  96.56  35.26  42.65  5.71\n",
       "\n",
       "[2685 rows x 5 columns]"
      ]
     },
     "execution_count": 100,
     "metadata": {},
     "output_type": "execute_result"
    }
   ],
   "source": [
    "data[\"Adj Close\"]"
   ]
  },
  {
   "cell_type": "code",
   "execution_count": 102,
   "metadata": {},
   "outputs": [
    {
     "data": {
      "text/plain": [
       "<matplotlib.axes._subplots.AxesSubplot at 0x1155e59b0>"
      ]
     },
     "execution_count": 102,
     "metadata": {},
     "output_type": "execute_result"
    },
    {
     "data": {
      "image/png": "[encoded data removed]",
      "text/plain": [
       "<Figure size 1080x648 with 1 Axes>"
      ]
     },
     "metadata": {
      "needs_background": "light"
     },
     "output_type": "display_data"
    }
   ],
   "source": [
    "data[\"Adj Close\"][\"NOK\"].pct_change().plot.hist(grid=True, bins=20, rwidth=0.9)"
   ]
  },
  {
   "cell_type": "code",
   "execution_count": 103,
   "metadata": {},
   "outputs": [
    {
     "data": {
      "text/plain": [
       "<matplotlib.axes._subplots.AxesSubplot at 0x1111fda58>"
      ]
     },
     "execution_count": 103,
     "metadata": {},
     "output_type": "execute_result"
    },
    {
     "data": {
      "image/png": "[encoded data removed]",
      "text/plain": [
       "<Figure size 1080x648 with 1 Axes>"
      ]
     },
     "metadata": {
      "needs_background": "light"
     },
     "output_type": "display_data"
    }
   ],
   "source": [
    "data[\"Adj Close\"][\"SBUX\"].pct_change().plot.hist(grid=True, bins=20, rwidth=0.9)"
   ]
  },
  {
   "cell_type": "code",
   "execution_count": 104,
   "metadata": {},
   "outputs": [
    {
     "data": {
      "text/plain": [
       "<matplotlib.axes._subplots.AxesSubplot at 0x114e6e898>"
      ]
     },
     "execution_count": 104,
     "metadata": {},
     "output_type": "execute_result"
    },
    {
     "data": {
      "image/png": "[encoded data removed]",
      "text/plain": [
       "<Figure size 1080x648 with 1 Axes>"
      ]
     },
     "metadata": {
      "needs_background": "light"
     },
     "output_type": "display_data"
    }
   ],
   "source": [
    "data[\"Adj Close\"][\"T\"].pct_change().plot.hist(grid=True, bins=20, rwidth=0.9)"
   ]
  },
  {
   "cell_type": "code",
   "execution_count": 105,
   "metadata": {},
   "outputs": [
    {
     "data": {
      "text/plain": [
       "<matplotlib.axes._subplots.AxesSubplot at 0x1158dc3c8>"
      ]
     },
     "execution_count": 105,
     "metadata": {},
     "output_type": "execute_result"
    },
    {
     "data": {
      "image/png": "[encoded data removed]",
      "text/plain": [
       "<Figure size 1080x648 with 1 Axes>"
      ]
     },
     "metadata": {
      "needs_background": "light"
     },
     "output_type": "display_data"
    }
   ],
   "source": [
    "data[\"Adj Close\"][\"TWTR\"].pct_change().plot.hist(grid=True, bins=20, rwidth=0.9)"
   ]
  },
  {
   "cell_type": "code",
   "execution_count": 106,
   "metadata": {},
   "outputs": [
    {
     "data": {
      "text/plain": [
       "<matplotlib.axes._subplots.AxesSubplot at 0x115b33518>"
      ]
     },
     "execution_count": 106,
     "metadata": {},
     "output_type": "execute_result"
    },
    {
     "data": {
      "image/png": "[encoded data removed]",
      "text/plain": [
       "<Figure size 1080x648 with 1 Axes>"
      ]
     },
     "metadata": {
      "needs_background": "light"
     },
     "output_type": "display_data"
    }
   ],
   "source": [
    "data[\"Adj Close\"][\"ZNGA\"].pct_change().plot.hist(grid=True, bins=20, rwidth=0.9)"
   ]
  },
  {
   "cell_type": "code",
   "execution_count": null,
   "metadata": {},
   "outputs": [],
   "source": []
  }
 ],
 "metadata": {
  "kernelspec": {
   "display_name": "Python 3",
   "language": "python",
   "name": "python3"
  },
  "language_info": {
   "codemirror_mode": {
    "name": "ipython",
    "version": 3
   },
   "file_extension": ".py",
   "mimetype": "text/x-python",
   "name": "python",
   "nbconvert_exporter": "python",
   "pygments_lexer": "ipython3",
   "version": "3.7.3"
  }
 },
 "nbformat": 4,
 "nbformat_minor": 2
}

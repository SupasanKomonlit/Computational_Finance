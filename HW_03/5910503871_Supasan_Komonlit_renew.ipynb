{
 "cells": [
  {
   "cell_type": "code",
   "execution_count": 1,
   "metadata": {},
   "outputs": [],
   "source": [
    "import yfinance as yf\n",
    "import pandas as pd\n",
    "import matplotlib.pyplot as plt\n",
    "import numpy as np\n",
    "from scipy.optimize import minimize"
   ]
  },
  {
   "cell_type": "code",
   "execution_count": 4,
   "metadata": {},
   "outputs": [],
   "source": [
    "def return_asset( data , focus_on ):\n",
    "    return_data = {}\n",
    "    for key in data[ focus_on ].columns:\n",
    "        return_data[ key ] = []\n",
    "        for run in range( 0 , data.shape[0] - 1 ):\n",
    "            return_data[key].append( data[focus_on][ key ][run + 1 ] / \n",
    "                    data[ focus_on ][ key ][ run ] -1 )\n",
    "    return return_data\n",
    "                             \n",
    "class portfolioDataFrame:\n",
    "    def __init__( self , data , focus_on = \"Adj Close\"):\n",
    "        self.data = data\n",
    "        self.return_data = pd.DataFrame( \n",
    "                return_asset( self.data , focus_on ) )\n",
    "        self.calculate_mean()\n",
    "        self.calculate_corrcoef()\n",
    "        self.prepare_data()\n",
    "    \n",
    "    def calculate_mean( self ):\n",
    "        self.mean_dict = {}\n",
    "        self.variance_dict = {}\n",
    "        self.std_dict = {}\n",
    "        for key in self.return_data.columns:\n",
    "            temp = np.array( self.return_data[ key ].tolist() )\n",
    "            self.mean_dict[key] = np.mean( temp )\n",
    "            self.variance_dict[ key ] = np.var( temp )\n",
    "            self.std_dict[ key ] = np.std( temp )\n",
    "            \n",
    "    def calculate_corrcoef( self ):\n",
    "        temp = []\n",
    "        for key in self.return_data.columns.tolist():\n",
    "            temp.append( self.return_data[key].tolist() )\n",
    "        self.corrcoef = np.corrcoef( np.array( temp ) )\n",
    "        \n",
    "    def prepare_data( self ):\n",
    "        self.key = {};\n",
    "        self.mean = []\n",
    "        self.variance = []\n",
    "        self.std = []\n",
    "        run = 0\n",
    "        for key in self.return_data.columns:\n",
    "            run+=1\n",
    "            self.key[ key ] = run\n",
    "            self.mean.append( self.mean_dict[ key ] )\n",
    "            self.variance.append( self.variance_dict[ key ] )\n",
    "            self.std.append( self.std_dict[ key ] )"
   ]
  },
  {
   "cell_type": "code",
   "execution_count": 5,
   "metadata": {},
   "outputs": [
    {
     "name": "stdout",
     "output_type": "stream",
     "text": [
      "[*********************100%***********************]  5 of 5 downloaded\n"
     ]
    }
   ],
   "source": [
    "port_stock = \"AMD CLF CSCO PFE USA\"\n",
    "port_key = set(port_stock.split( \" \" ))\n",
    "data = yf.download( port_stock , start=\"2018-04-04\", end=\"2019-04-04\" )\n",
    "data.fillna(method='bfill', inplace=True)\n",
    "port_data = portfolioDataFrame( data )"
   ]
  },
  {
   "cell_type": "code",
   "execution_count": 16,
   "metadata": {},
   "outputs": [
    {
     "data": {
      "text/html": [
       "<div>\n",
       "<style scoped>\n",
       "    .dataframe tbody tr th:only-of-type {\n",
       "        vertical-align: middle;\n",
       "    }\n",
       "\n",
       "    .dataframe tbody tr th {\n",
       "        vertical-align: top;\n",
       "    }\n",
       "\n",
       "    .dataframe thead th {\n",
       "        text-align: right;\n",
       "    }\n",
       "</style>\n",
       "<table border=\"1\" class=\"dataframe\">\n",
       "  <thead>\n",
       "    <tr style=\"text-align: right;\">\n",
       "      <th></th>\n",
       "      <th>AMD</th>\n",
       "      <th>CLF</th>\n",
       "      <th>CSCO</th>\n",
       "      <th>PFE</th>\n",
       "      <th>USA</th>\n",
       "    </tr>\n",
       "    <tr>\n",
       "      <th>Date</th>\n",
       "      <th></th>\n",
       "      <th></th>\n",
       "      <th></th>\n",
       "      <th></th>\n",
       "      <th></th>\n",
       "    </tr>\n",
       "  </thead>\n",
       "  <tbody>\n",
       "    <tr>\n",
       "      <td>2018-04-03</td>\n",
       "      <td>9.55</td>\n",
       "      <td>6.67</td>\n",
       "      <td>39.35</td>\n",
       "      <td>33.85</td>\n",
       "      <td>5.20</td>\n",
       "    </tr>\n",
       "    <tr>\n",
       "      <td>2018-04-04</td>\n",
       "      <td>9.77</td>\n",
       "      <td>6.65</td>\n",
       "      <td>39.49</td>\n",
       "      <td>34.27</td>\n",
       "      <td>5.26</td>\n",
       "    </tr>\n",
       "    <tr>\n",
       "      <td>2018-04-05</td>\n",
       "      <td>10.02</td>\n",
       "      <td>6.99</td>\n",
       "      <td>40.09</td>\n",
       "      <td>33.90</td>\n",
       "      <td>5.33</td>\n",
       "    </tr>\n",
       "    <tr>\n",
       "      <td>2018-04-06</td>\n",
       "      <td>9.61</td>\n",
       "      <td>6.65</td>\n",
       "      <td>39.04</td>\n",
       "      <td>33.36</td>\n",
       "      <td>5.20</td>\n",
       "    </tr>\n",
       "    <tr>\n",
       "      <td>2018-04-09</td>\n",
       "      <td>9.53</td>\n",
       "      <td>6.52</td>\n",
       "      <td>39.46</td>\n",
       "      <td>33.64</td>\n",
       "      <td>5.25</td>\n",
       "    </tr>\n",
       "    <tr>\n",
       "      <td>...</td>\n",
       "      <td>...</td>\n",
       "      <td>...</td>\n",
       "      <td>...</td>\n",
       "      <td>...</td>\n",
       "      <td>...</td>\n",
       "    </tr>\n",
       "    <tr>\n",
       "      <td>2019-03-28</td>\n",
       "      <td>25.06</td>\n",
       "      <td>9.48</td>\n",
       "      <td>52.30</td>\n",
       "      <td>41.53</td>\n",
       "      <td>5.77</td>\n",
       "    </tr>\n",
       "    <tr>\n",
       "      <td>2019-03-29</td>\n",
       "      <td>25.52</td>\n",
       "      <td>9.74</td>\n",
       "      <td>52.91</td>\n",
       "      <td>41.71</td>\n",
       "      <td>5.80</td>\n",
       "    </tr>\n",
       "    <tr>\n",
       "      <td>2019-04-01</td>\n",
       "      <td>26.36</td>\n",
       "      <td>10.12</td>\n",
       "      <td>53.88</td>\n",
       "      <td>42.07</td>\n",
       "      <td>5.87</td>\n",
       "    </tr>\n",
       "    <tr>\n",
       "      <td>2019-04-02</td>\n",
       "      <td>26.75</td>\n",
       "      <td>10.02</td>\n",
       "      <td>54.19</td>\n",
       "      <td>42.14</td>\n",
       "      <td>5.89</td>\n",
       "    </tr>\n",
       "    <tr>\n",
       "      <td>2019-04-03</td>\n",
       "      <td>29.02</td>\n",
       "      <td>10.29</td>\n",
       "      <td>54.52</td>\n",
       "      <td>42.07</td>\n",
       "      <td>5.90</td>\n",
       "    </tr>\n",
       "  </tbody>\n",
       "</table>\n",
       "<p>253 rows × 5 columns</p>\n",
       "</div>"
      ],
      "text/plain": [
       "              AMD    CLF   CSCO    PFE   USA\n",
       "Date                                        \n",
       "2018-04-03   9.55   6.67  39.35  33.85  5.20\n",
       "2018-04-04   9.77   6.65  39.49  34.27  5.26\n",
       "2018-04-05  10.02   6.99  40.09  33.90  5.33\n",
       "2018-04-06   9.61   6.65  39.04  33.36  5.20\n",
       "2018-04-09   9.53   6.52  39.46  33.64  5.25\n",
       "...           ...    ...    ...    ...   ...\n",
       "2019-03-28  25.06   9.48  52.30  41.53  5.77\n",
       "2019-03-29  25.52   9.74  52.91  41.71  5.80\n",
       "2019-04-01  26.36  10.12  53.88  42.07  5.87\n",
       "2019-04-02  26.75  10.02  54.19  42.14  5.89\n",
       "2019-04-03  29.02  10.29  54.52  42.07  5.90\n",
       "\n",
       "[253 rows x 5 columns]"
      ]
     },
     "execution_count": 16,
     "metadata": {},
     "output_type": "execute_result"
    }
   ],
   "source": [
    "data['Adj Close']"
   ]
  },
  {
   "cell_type": "markdown",
   "metadata": {},
   "source": [
    "ref01 : https://towardsdatascience.com/efficient-frontier-optimize-portfolio-with-scipy-57456428323e"
   ]
  },
  {
   "cell_type": "code",
   "execution_count": 26,
   "metadata": {},
   "outputs": [
    {
     "data": {
      "image/png": "[encoded data removed]",
      "text/plain": [
       "<Figure size 432x288 with 1 Axes>"
      ]
     },
     "metadata": {
      "needs_background": "light"
     },
     "output_type": "display_data"
    }
   ],
   "source": [
    "def get_risk(prices):\n",
    "    return (prices / prices.shift(1) - 1).dropna().std().values\n",
    "def get_return(prices):\n",
    "    return ((prices / prices.shift(1) - 1).dropna().mean() * np.sqrt(250)).values\n",
    "\n",
    "symbols = port_key\n",
    "\n",
    "prices = data['Adj Close']\n",
    "risk_v = get_risk(prices)\n",
    "return_v = get_return(prices)\n",
    "fig, ax = plt.subplots()\n",
    "ax.scatter(x=risk_v, y=return_v, alpha=0.5)\n",
    "ax.set(title='Return and Risk', xlabel='Risk', ylabel='Return')\n",
    "for i, symbol in enumerate(symbols):\n",
    "    ax.annotate(symbol, (risk_v[i], return_v[i]))\n",
    "plt.show()"
   ]
  },
  {
   "cell_type": "code",
   "execution_count": 33,
   "metadata": {},
   "outputs": [
    {
     "name": "stderr",
     "output_type": "stream",
     "text": [
      "/home/sevinar/.local/lib/python3.6/site-packages/ipykernel_launcher.py:20: FutureWarning: \n",
      ".ix is deprecated. Please use\n",
      ".loc for label based indexing or\n",
      ".iloc for positional indexing\n",
      "\n",
      "See the documentation here:\n",
      "http://pandas.pydata.org/pandas-docs/stable/user_guide/indexing.html#ix-indexer-is-deprecated\n"
     ]
    },
    {
     "data": {
      "image/png": "[encoded data removed]",
      "text/plain": [
       "<Figure size 432x288 with 1 Axes>"
      ]
     },
     "metadata": {
      "needs_background": "light"
     },
     "output_type": "display_data"
    }
   ],
   "source": [
    "def random_weights(n):\n",
    "    weights = np.random.rand(n)\n",
    "    return weights / sum(weights)\n",
    "\n",
    "def get_portfolio_risk(weights, normalized_prices):\n",
    "    portfolio_val = (normalized_prices * weights).sum(axis=1)\n",
    "    portfolio = pd.DataFrame(index=normalized_prices.index, data={'portfolio': portfolio_val})\n",
    "    return (portfolio / portfolio.shift(1) - 1).dropna().std().values[0]\n",
    "\n",
    "def get_portfolio_return(weights, normalized_prices):\n",
    "    portfolio_val = (normalized_prices * weights).sum(axis=1)\n",
    "    portfolio = pd.DataFrame(index=normalized_prices.index, data={'portfolio': portfolio_val})\n",
    "    ret = get_return(portfolio)\n",
    "    return ret[0]\n",
    "\n",
    "risk_all = np.array([])\n",
    "return_all = np.array([])\n",
    "# for demo purpose, plot 3000 random portoflio\n",
    "np.random.seed(0)\n",
    "dfd.loc[dfd.index[[0, 2]], 'A']\n",
    "normalized_prices = prices / prices.[0, :]\n",
    "for _ in range(0, 3000):\n",
    "    weights = random_weights(len(symbols))\n",
    "    portfolio_val = (normalized_prices * weights).sum(axis=1)\n",
    "    portfolio = pd.DataFrame(index=prices.index, data={'portfolio': portfolio_val})\n",
    "    risk = get_risk(portfolio)\n",
    "    ret = get_return(portfolio)\n",
    "    risk_all = np.append(risk_all, risk)\n",
    "    return_all = np.append(return_all, ret)\n",
    "    p = get_portfolio_risk(weights=weights, \n",
    "            normalized_prices=normalized_prices)\n",
    "    \n",
    "fig, ax = plt.subplots()\n",
    "ax.scatter(x=risk_all, y=return_all, alpha=0.5)\n",
    "ax.set(title='Return and Risk', xlabel='Risk', ylabel='Return')\n",
    "for i, symbol in enumerate(symbols):\n",
    "    ax.annotate(symbol, (risk_v[i], return_v[i]))\n",
    "ax.scatter(x=risk_v, y=return_v, alpha=0.5, color='red')\n",
    "ax.set(title='Return and Risk', xlabel='Risk', ylabel='Return')\n",
    "ax.grid()\n",
    "plt.show()"
   ]
  },
  {
   "cell_type": "code",
   "execution_count": null,
   "metadata": {},
   "outputs": [],
   "source": []
  }
 ],
 "metadata": {
  "kernelspec": {
   "display_name": "Python 3",
   "language": "python",
   "name": "python3"
  },
  "language_info": {
   "codemirror_mode": {
    "name": "ipython",
    "version": 3
   },
   "file_extension": ".py",
   "mimetype": "text/x-python",
   "name": "python",
   "nbconvert_exporter": "python",
   "pygments_lexer": "ipython3",
   "version": "3.6.9"
  }
 },
 "nbformat": 4,
 "nbformat_minor": 2
}

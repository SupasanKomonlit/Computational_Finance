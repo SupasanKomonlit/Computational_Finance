{
 "cells": [
  {
   "cell_type": "code",
   "execution_count": 1,
   "metadata": {},
   "outputs": [],
   "source": [
    "import yfinance as yf\n",
    "import numpy as np\n",
    "import math\n",
    "import pandas as pd\n",
    "import matplotlib.pyplot as plt\n",
    "import qpsolvers\n",
    "from scipy.optimize import minimize"
   ]
  },
  {
   "cell_type": "code",
   "execution_count": 2,
   "metadata": {},
   "outputs": [],
   "source": [
    "stocks_name = \"MU SIRI ECA PFE GE GOOG YPF KGC CR ACB USA CHK AMD F X BAC BABA NOK PCG VALE CSCO FLR ANET BBC PXI LIT PXE SNAP RIG GGB CLF GOLD BMY PBR-A WU KHC XOM TEVA ABBV INTC\"\n",
    "stocks_key = set(stocks_name.split( \" \" ))"
   ]
  },
  {
   "cell_type": "code",
   "execution_count": 3,
   "metadata": {},
   "outputs": [
    {
     "name": "stdout",
     "output_type": "stream",
     "text": [
      "[*********************100%***********************]  40 of 40 completed\n"
     ]
    }
   ],
   "source": [
    "data = yf.download( stocks_name , start=\"2018-04-04\", end=\"2019-04-04\")\n",
    "data.fillna(method='bfill', inplace=True)"
   ]
  },
  {
   "cell_type": "code",
   "execution_count": 4,
   "metadata": {},
   "outputs": [],
   "source": [
    "# Please set parameter of your portofolio\n",
    "total_value_of_portfolio = 1e6"
   ]
  },
  {
   "cell_type": "code",
   "execution_count": 8,
   "metadata": {},
   "outputs": [],
   "source": [
    "def return_asset( data , focus_on ):\n",
    "    return_data = {}\n",
    "    for key in data[ focus_on ].columns:\n",
    "        return_data[ key ] = []\n",
    "        for run in range( 0 , data.shape[0] - 1 ):\n",
    "            return_data[key].append( data[focus_on][ key ][run + 1 ] / \n",
    "                    data[ focus_on ][ key ][ run ] -1 )\n",
    "    return return_data\n",
    "                             \n",
    "class portfolioDataFrame:\n",
    "    def __init__( self , data , focus_on = \"Adj Close\"):\n",
    "        self.data = data\n",
    "        self.return_data = pd.DataFrame( \n",
    "                return_asset( self.data , focus_on ) )\n",
    "        self.calculate()\n",
    "        self.prepare_data()\n",
    "        self.pre_process()\n",
    "    \n",
    "    def calculate( self ):\n",
    "        self.mean_dict = {}\n",
    "        self.variance_dict = {}\n",
    "        self.std_dict = {}\n",
    "        collect_data = []\n",
    "        for key in self.return_data.columns:\n",
    "            temp = np.array( self.return_data[ key ].tolist() )\n",
    "            self.mean_dict[key] = np.mean( temp )\n",
    "            self.variance_dict[ key ] = np.var( temp )\n",
    "            self.std_dict[ key ] = np.std( temp )\n",
    "            collect_data.append( self.return_data[ key ].tolist() )\n",
    "        self.data_array = np.array( collect_data )\n",
    "        self.covariance = np.cov( self.data_array , rowvar = True )\n",
    "        self.correlation = np.corrcoef( self.data_array , rowvar = True )\n",
    "        \n",
    "    def prepare_data( self ):\n",
    "        self.key = {};\n",
    "        self.list_key = []\n",
    "        self.mean = []\n",
    "        self.variance = []\n",
    "        self.std = []\n",
    "        run = 0\n",
    "        for key in self.return_data.columns:\n",
    "            run+=1\n",
    "            self.list_key.append( key )\n",
    "            self.key[ key ] = run\n",
    "            self.mean.append( self.mean_dict[ key ] )\n",
    "            self.variance.append( self.variance_dict[ key ] )\n",
    "            self.std.append( self.std_dict[ key ] )\n",
    "            \n",
    "    def pre_process( self ):\n",
    "        one_array = []\n",
    "        for key in self.key.keys():\n",
    "            one_array.append( 1 )\n",
    "        self.matrix_return = np.array( (\n",
    "                self.mean,\n",
    "                one_array\n",
    "                ) )\n",
    "        self.matrix_std = np.array((\n",
    "                self.std,\n",
    "                one_array\n",
    "                ))\n",
    "        self.matrix_var = np.array((\n",
    "                self.variance,\n",
    "                one_array\n",
    "                ))\n",
    "    "
   ]
  },
  {
   "cell_type": "raw",
   "metadata": {},
   "source": [
    "port_data = portfolioDataFrame( data )"
   ]
  },
  {
   "cell_type": "raw",
   "metadata": {},
   "source": [
    "port_all_data = portfolioDataFrame( data )"
   ]
  },
  {
   "cell_type": "raw",
   "metadata": {},
   "source": [
    "group_data = tuple( port_all_data.return_data.columns.tolist() )\n",
    "plt.figure(figsize = ( 9 , 9 ))\n",
    "for key in group_data:\n",
    "    plt.plot( port_all_data.std_dict[key] , port_all_data.mean_dict[key] , 'o',\n",
    "            label = key )\n",
    "#    group_label.append( [key] )\n",
    "#    x_data.append( port_data.mean[key] )\n",
    "#    y_data.append( port_data.std[key] )\n",
    "\n",
    "plt.title('Stock Data')\n",
    "plt.xlabel( \"standard deviation of return\")\n",
    "plt.ylabel( \"mean return\")\n",
    "plt.legend()\n",
    "plt.show()"
   ]
  },
  {
   "cell_type": "code",
   "execution_count": 9,
   "metadata": {},
   "outputs": [
    {
     "name": "stdout",
     "output_type": "stream",
     "text": [
      "[*********************100%***********************]  5 of 5 completed\n"
     ]
    }
   ],
   "source": [
    "port_stock = \"AMD CLF CSCO PFE USA\"\n",
    "port_key = set( port_stock.split( \" \" ))\n",
    "data = yf.download( port_stock , start=\"2018-04-04\", end=\"2019-04-04\" )\n",
    "data.fillna( method='bfill', inplace=True )"
   ]
  },
  {
   "cell_type": "code",
   "execution_count": 10,
   "metadata": {},
   "outputs": [],
   "source": [
    "port_data = portfolioDataFrame( data )"
   ]
  },
  {
   "cell_type": "code",
   "execution_count": 11,
   "metadata": {},
   "outputs": [
    {
     "data": {
      "image/png": "[encoded data removed]",
      "text/plain": [
       "<Figure size 648x648 with 1 Axes>"
      ]
     },
     "metadata": {
      "needs_background": "light"
     },
     "output_type": "display_data"
    }
   ],
   "source": [
    "group_data = tuple( port_data.return_data.columns.tolist() )\n",
    "plt.figure(figsize = ( 9 , 9 ))\n",
    "for key in group_data:\n",
    "    plt.plot( port_data.std_dict[key] , port_data.mean_dict[key] , 'o',\n",
    "            label = key )\n",
    "#    group_label.append( [key] )\n",
    "#    x_data.append( port_data.mean[key] )\n",
    "#    y_data.append( port_data.std[key] )\n",
    "\n",
    "plt.title('Stock Data')\n",
    "plt.xlabel( \"standard deviation of return\")\n",
    "plt.ylabel( \"mean return\")\n",
    "plt.legend()\n",
    "plt.show()"
   ]
  },
  {
   "cell_type": "markdown",
   "metadata": {},
   "source": [
    "Above part collect data may be use to calculate perform portfolit optimization."
   ]
  },
  {
   "cell_type": "code",
   "execution_count": 12,
   "metadata": {},
   "outputs": [
    {
     "name": "stdout",
     "output_type": "stream",
     "text": [
      "KEY : {'AMD': 1, 'CLF': 2, 'CSCO': 3, 'PFE': 4, 'USA': 5}\n",
      "MEAN: [0.005351030664471437, 0.0022375910159126537, 0.0014049968294830215, 0.0009330346724378137, 0.0005609734916460417]\n",
      "VAR : [0.0018814166033585599, 0.0010483554261337073, 0.00021980690486894417, 0.00013926642634621512, 0.00011964758840340047]\n",
      "STD : [0.04337529946131277, 0.032378317222081, 0.014825886309726788, 0.011801119707308079, 0.010938354007957526]\n"
     ]
    }
   ],
   "source": [
    "print( \"KEY : \" + repr( port_data.key ) )\n",
    "print( \"MEAN: \" + repr( port_data.mean ) )\n",
    "print( \"VAR : \" + repr( port_data.variance ) )\n",
    "print( \"STD : \" + repr( port_data.std ) )"
   ]
  },
  {
   "cell_type": "code",
   "execution_count": 15,
   "metadata": {},
   "outputs": [],
   "source": [
    "# Part prepare data\n",
    "global expect_return, expect_variance , L\n",
    "list_variance = port_data.variance;\n",
    "list_return = port_data.mean;\n",
    "list_std = port_data.std;\n",
    "list_cov = port_data.covariance;\n",
    "list_cor = port_data.correlation;\n",
    "i_bound = ( 0.0 , 1.0 )\n",
    "bound = ( i_bound, i_bound, i_bound, i_bound, i_bound)\n",
    "init = np.full( 5 , 0.2 )"
   ]
  },
  {
   "cell_type": "code",
   "execution_count": null,
   "metadata": {},
   "outputs": [],
   "source": [
    "def objective_variance( weights ):\n",
    "    summation = 0\n",
    "    for run in range( len( weights ) ):\n",
    "        summation += list_variance[ run ] * weights[ run ]\n",
    "    return summation\n",
    "def minus_objective_return( weights ):\n",
    "    summation = 0\n",
    "    for run in range( len( weights ) ):\n",
    "        summation -= weights[ run ] * list_return[run]\n",
    "    return summation\n",
    "# This is constrain_return will return about delete expect return  \n",
    "def constrain_return( weights ):\n",
    "    global expect_return\n",
    "    summation = expect_return\n",
    "    for run in range( len( weights ) ):\n",
    "        summation -= list_return[ run ] * weights[ run ]\n",
    "    return summation\n",
    "# This is constrain_mean will return about expect weights\n",
    "def constrain_weights( weights ):\n",
    "    summation = 1\n",
    "    for run in range( len( weights ) ):\n",
    "        summation -= weights[ run ]\n",
    "    return summation\n",
    "# This is constrain_variance will return about expect variance\n",
    "def constrain_variance( weights ):\n",
    "    global expect_variance\n",
    "    sum_variance = 0\n",
    "    for i in range( len( weights ) ):\n",
    "        sum_variance += math.pow( weights[i] , 2 ) * list_std[ i ]\n",
    "    return expect_variance - "
   ]
  },
  {
   "cell_type": "markdown",
   "metadata": {},
   "source": [
    "# Return Object\n",
    "This part will try to use about scipy optimization method SLSQP"
   ]
  },
  {
   "cell_type": "code",
   "execution_count": null,
   "metadata": {},
   "outputs": [],
   "source": [
    "def return_objective( expect ):\n",
    "    global expect_return\n",
    "    expect_return = expect\n",
    "    con1 = {'type' : 'eq' , 'fun' : constrain_return  }\n",
    "    con2 = {'type' : 'eq' , 'fun' : constrain_weights }\n",
    "    cons = ( con1 , con2 )\n",
    "    return minimize( objective_variance , init , method='SLSQP' , constraints=cons , bounds=bound )"
   ]
  },
  {
   "cell_type": "code",
   "execution_count": null,
   "metadata": {},
   "outputs": [],
   "source": [
    "result = return_objective( 0.003 )"
   ]
  },
  {
   "cell_type": "code",
   "execution_count": null,
   "metadata": {},
   "outputs": [],
   "source": [
    "print( \"Detail your situation and condition\")\n",
    "print( \"inidividual bound weights : \" + repr( i_bound ) )\n",
    "print( \"Your expect retrun : \" + str( expect_return ) )\n",
    "print( \"Result : \")\n",
    "if( not result ):\n",
    "    print( \"\\tFailure you can't manage your port in this case\")\n",
    "else:\n",
    "    print( \"\\tYour risk : \" + str( result.fun ) )\n",
    "    print( \"\\tYour weights :\")\n",
    "    for run in range( len( result.x ) ):\n",
    "        print( \"\\t\\t\" + port_data.list_key[ run ] + \"\\t: \" + str( result.x[ run ] ) )"
   ]
  },
  {
   "cell_type": "markdown",
   "metadata": {},
   "source": [
    "## Plot efficient frontier"
   ]
  },
  {
   "cell_type": "code",
   "execution_count": null,
   "metadata": {},
   "outputs": [],
   "source": [
    "min_value = np.amin( list_return )\n",
    "max_value = np.amax( list_return )\n",
    "diff_value = ( max_value - min_value ) / 100."
   ]
  },
  {
   "cell_type": "code",
   "execution_count": null,
   "metadata": {},
   "outputs": [],
   "source": [
    "expect_return_return = np.array( [] )\n",
    "expect_return_risk = np.array( [] )\n",
    "for target_return in np.arange( min_value , max_value , diff_value ):\n",
    "    temp_result = return_objective( target_return )\n",
    "    expect_return_return = np.append( \n",
    "            expect_return_return,\n",
    "            target_return )\n",
    "    expect_return_risk = np.append(\n",
    "            expect_return_risk,\n",
    "            temp_result.fun )\n",
    "    \n",
    "plt.figure(figsize = ( 9 , 9 ))\n",
    "for key in group_data:\n",
    "    plt.plot( port_data.variance_dict[key] , port_data.mean_dict[key] , 'o',\n",
    "            label = key )\n",
    "plt.plot( expect_return_risk , expect_return_return )\n",
    "plt.title('Efficient Frontier of Return Objective')\n",
    "plt.xlabel( \"variance of return\")\n",
    "plt.ylabel( \"mean return\")\n",
    "plt.legend()\n",
    "plt.show()   "
   ]
  },
  {
   "cell_type": "markdown",
   "metadata": {},
   "source": [
    "# Risk Constraint\n",
    "max( f(x) ) = - min( -f(x) )"
   ]
  },
  {
   "cell_type": "code",
   "execution_count": null,
   "metadata": {},
   "outputs": [],
   "source": [
    "def risk_constraint( expect ):\n",
    "    global expect_variance\n",
    "    expect_variance = expect\n",
    "    con1 = {'type' : 'eq' , 'fun' : constrain_variance }\n",
    "    con2 = {'type' : 'eq' , 'fun' : constrain_weights }\n",
    "    cons = ( con1 , con2 )\n",
    "    return minimize( minus_objective_return , init , method='SLSQP' , constraints=cons , bounds=bound )"
   ]
  },
  {
   "cell_type": "code",
   "execution_count": null,
   "metadata": {},
   "outputs": [],
   "source": [
    "result = risk_constraint( 0.0007 )"
   ]
  },
  {
   "cell_type": "code",
   "execution_count": null,
   "metadata": {},
   "outputs": [],
   "source": [
    "print( \"Detail your situation and condition\")\n",
    "print( \"inidividual bound weights : \" + repr( i_bound ) )\n",
    "print( \"Your expect variance : \" + str( expect_variance ) )\n",
    "print( \"Result : \")\n",
    "if( not result ):\n",
    "    print( \"\\tFailure you can't manage your port in this case\")\n",
    "else:\n",
    "    print( \"\\tYour return : \" + str( -1.0*result.fun ) )\n",
    "    print( \"\\tYour weights :\")\n",
    "    for run in range( len( result.x ) ):\n",
    "        print( \"\\t\\t\" + port_data.list_key[ run ] + \"\\t: \" + str( result.x[ run ] ) )"
   ]
  },
  {
   "cell_type": "markdown",
   "metadata": {},
   "source": [
    "## Plot efficient frontier"
   ]
  },
  {
   "cell_type": "code",
   "execution_count": null,
   "metadata": {},
   "outputs": [],
   "source": [
    "min_value = np.amin( list_variance )\n",
    "max_value = np.amax( port_data.variance_dict[ 'AMD'] )\n",
    "diff_value = ( max_value - min_value ) / 100"
   ]
  },
  {
   "cell_type": "code",
   "execution_count": null,
   "metadata": {},
   "outputs": [],
   "source": [
    "risk_return_return = np.array( [] )\n",
    "risk_return_risk = np.array( [] )\n",
    "for target_risk in np.arange( min_value , max_value , diff_value ):\n",
    "    temp_result = risk_constraint( target_return )\n",
    "    risk_return_return = np.append( \n",
    "            expect_return_return,\n",
    "            -1.0*temp_result.fun )\n",
    "    risk_return_risk = np.append(\n",
    "            expect_return_risk,\n",
    "            target_risk )\n",
    "    \n",
    "plt.figure(figsize = ( 9 , 9 ))\n",
    "for key in group_data:\n",
    "    plt.plot( port_data.variance_dict[key] , port_data.mean_dict[key] , 'o',\n",
    "            label = key )\n",
    "plt.plot( risk_return_risk , risk_return_return )\n",
    "plt.title('Efficient Frontier of Risk Constraint')\n",
    "plt.xlabel( \"variance of return\")\n",
    "plt.ylabel( \"mean return\")\n",
    "plt.legend()\n",
    "plt.show()   "
   ]
  },
  {
   "cell_type": "markdown",
   "metadata": {},
   "source": [
    "# Mean-Variance Optimization\n",
    "max( f(x) ) = -min( -f(x) )"
   ]
  },
  {
   "cell_type": "code",
   "execution_count": null,
   "metadata": {},
   "outputs": [],
   "source": [
    "def minus_mean_variance( weights ):\n",
    "    summation = 0\n",
    "    global L\n",
    "    for run in range( len( weights ) ):\n",
    "        summation -= ( list_return[ run ] - L/2*list_variance[ run ] )*weights[ run ]\n",
    "    return summation\n",
    "def report_mean_variance_optimization( result ):\n",
    "    print( \"Report of mean variance optimization\")\n",
    "    for key in result.keys():\n",
    "        print( \"Case\" + key + \"\\t:\" )\n",
    "        print( \"\\tResult Maximize\\t:\" + str( result[key].fun ) )\n",
    "        print( \"\\tYour weights :\")\n",
    "        for run in range( len( result[key].x ) ):\n",
    "            print( \"\\t\\t\" + port_data.list_key[ run ] + \"\\t: \" + str( result[ key ].x[ run ] ) )"
   ]
  },
  {
   "cell_type": "code",
   "execution_count": null,
   "metadata": {},
   "outputs": [],
   "source": [
    "def minus_mean_variance_optimization( L_test ):\n",
    "    global L\n",
    "    L = L_test\n",
    "    con1 = {'type' : 'eq' , 'fun' : constrain_weights }\n",
    "    cons = ( con1 )\n",
    "    return minimize( minus_mean_variance , init , method='SLSQP' , constraints=cons , bounds=bound )"
   ]
  },
  {
   "cell_type": "code",
   "execution_count": null,
   "metadata": {},
   "outputs": [],
   "source": [
    "test_string = \"0.5 1.2 2.3\"\n",
    "test_set = test_string.split(' ')\n",
    "result_optimization = {}\n",
    "for test_data in test_set:\n",
    "    result_optimization[ test_data ] = minus_mean_variance_optimization( float( test_data ) )"
   ]
  },
  {
   "cell_type": "code",
   "execution_count": null,
   "metadata": {},
   "outputs": [],
   "source": [
    "report_mean_variance_optimization( result_optimization )"
   ]
  },
  {
   "cell_type": "code",
   "execution_count": null,
   "metadata": {},
   "outputs": [],
   "source": [
    "min_value = -1\n",
    "max_value = 1\n",
    "diff_value = 0.01"
   ]
  },
  {
   "cell_type": "code",
   "execution_count": null,
   "metadata": {},
   "outputs": [],
   "source": [
    "optimize_return = np.array( [] )\n",
    "optimize_risk = np.array( [] )\n",
    "for target in np.arange( min_value , max_value , diff_value ):\n",
    "    temp_result = return_objective( target )\n",
    "    optimize_return = np.append( \n",
    "            optimize_return,\n",
    "            np.matmul( port_data.matrix_return , result.x )[0] )\n",
    "    optimize_risk = np.append(\n",
    "            optimize_risk,\n",
    "            np.matmul( port_data.matrix_var , result.x )[0] )\n",
    "    \n",
    "plt.figure(figsize = ( 9 , 9 ))\n",
    "for key in group_data:\n",
    "    plt.plot( port_data.variance_dict[key] , port_data.mean_dict[key] , 'o',\n",
    "            label = key )\n",
    "plt.plot( expect_return_risk , expect_return_return )\n",
    "plt.title('Efficient Frontier of mean variance optimize')\n",
    "plt.xlabel( \"variance of return\")\n",
    "plt.ylabel( \"mean return\")\n",
    "plt.legend()\n",
    "plt.show()   "
   ]
  },
  {
   "cell_type": "markdown",
   "metadata": {},
   "source": [
    "# Result & Decision"
   ]
  },
  {
   "cell_type": "markdown",
   "metadata": {},
   "source": [
    "คาดว่าผลที่ได้อาจเป็นเหตุเนื่องจากการเลือกใช้ ฟังก์ชั่น optimization เนื่องจากการใช้ quadratic ได้ลองพยายามใช้แล้ว ไม่สามารถใช้ได้สำเร็จ ติดปัญหาจากการประยุกต์ใช้งาน ไม่สามารถใช้ได้"
   ]
  },
  {
   "cell_type": "markdown",
   "metadata": {},
   "source": [
    "ผลที่ได้พบว่า ในการ optimization ไม่ว่าจะเลือกทางใด ก็จะได้ผลที่ค่อนข้างใกล้เคียงกัน หมายความการ optimization จะมีจุดๆหนึ่งที่คู่กันเสมอ ไม่ว่าจะเกิดจากการ constrain ในส่วนของ return หรือ risk พบอีกว่า ถ้าคุณกำหนดรูปแบบของการลงทุน short อย่างเดียว หรือ long อย่างเดียว หรือทั้งคู่ จะทำให้ได้กราฟที่มีลักษณะแตกต่างกันออกไป"
   ]
  },
  {
   "cell_type": "markdown",
   "metadata": {},
   "source": [
    "ในกรณีที่หุ่นที่เราเลือกใช้จัด portfolit มีอัตราส่วนระหว่างความแตกต่างระหว่างผลตอบแทนกับความเสีย่งที่แตกต่างกันมาก มีสิทธิทำให้ weight ที่ใช้มีการ bias ไปฝั่งนั้น เผื่อถ่วงให้คุณมีความเสี่ยงน้อย แสดงว่า หุ้นที่จะเอามาใช้ weight ก็มีผลเช่นกัน "
   ]
  }
 ],
 "metadata": {
  "kernelspec": {
   "display_name": "Python 3",
   "language": "python",
   "name": "python3"
  },
  "language_info": {
   "codemirror_mode": {
    "name": "ipython",
    "version": 3
   },
   "file_extension": ".py",
   "mimetype": "text/x-python",
   "name": "python",
   "nbconvert_exporter": "python",
   "pygments_lexer": "ipython3",
   "version": "3.6.9"
  }
 },
 "nbformat": 4,
 "nbformat_minor": 2
}
